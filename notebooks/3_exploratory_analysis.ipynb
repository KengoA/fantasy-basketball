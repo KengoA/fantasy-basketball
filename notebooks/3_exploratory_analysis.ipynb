{
 "cells": [
  {
   "cell_type": "markdown",
   "metadata": {},
   "source": [
    "### Exploratory Data Exploration\n",
    "Looking at the relationship between fantasy salary and player performance as well as its consistency.  \n",
    "Sign up with plotly for free and set credientials in your local folder to use plotly (https://plot.ly/python/getting-started/)"
   ]
  },
  {
   "cell_type": "code",
   "execution_count": 3,
   "metadata": {
    "ExecuteTime": {
     "end_time": "2019-05-26T05:56:13.747652Z",
     "start_time": "2019-05-26T05:56:11.142359Z"
    }
   },
   "outputs": [
    {
     "ename": "ImportError",
     "evalue": "\nThe plotly.plotly module is deprecated,\nplease install the chart-studio package and use the\nchart_studio.plotly module instead. \n",
     "output_type": "error",
     "traceback": [
      "\u001b[0;31m---------------------------------------------------------------------------\u001b[0m",
      "\u001b[0;31mImportError\u001b[0m                               Traceback (most recent call last)",
      "Cell \u001b[0;32mIn[3], line 14\u001b[0m\n\u001b[1;32m     12\u001b[0m \u001b[39mimport\u001b[39;00m \u001b[39mplotly\u001b[39;00m\n\u001b[1;32m     13\u001b[0m \u001b[39mimport\u001b[39;00m \u001b[39mplotly\u001b[39;00m\u001b[39m.\u001b[39;00m\u001b[39mgraph_objs\u001b[39;00m \u001b[39mas\u001b[39;00m \u001b[39mgo\u001b[39;00m\n\u001b[0;32m---> 14\u001b[0m \u001b[39mimport\u001b[39;00m \u001b[39mplotly\u001b[39;00m\u001b[39m.\u001b[39;00m\u001b[39mplotly\u001b[39;00m \u001b[39mas\u001b[39;00m \u001b[39mpy\u001b[39;00m\n\u001b[1;32m     15\u001b[0m \u001b[39mimport\u001b[39;00m \u001b[39mcolorlover\u001b[39;00m \u001b[39mas\u001b[39;00m \u001b[39mcl\u001b[39;00m\n\u001b[1;32m     17\u001b[0m \u001b[39mfrom\u001b[39;00m \u001b[39mtqdm\u001b[39;00m \u001b[39mimport\u001b[39;00m tqdm_notebook \u001b[39mas\u001b[39;00m tqdm\n",
      "File \u001b[0;32m~/src/KengoA/fantasy-basketball/venv/lib/python3.9/site-packages/plotly/plotly/__init__.py:4\u001b[0m\n\u001b[1;32m      1\u001b[0m \u001b[39mfrom\u001b[39;00m \u001b[39m__future__\u001b[39;00m \u001b[39mimport\u001b[39;00m absolute_import\n\u001b[1;32m      2\u001b[0m \u001b[39mfrom\u001b[39;00m \u001b[39m_plotly_future_\u001b[39;00m \u001b[39mimport\u001b[39;00m _chart_studio_error\n\u001b[0;32m----> 4\u001b[0m _chart_studio_error(\u001b[39m\"\u001b[39;49m\u001b[39mplotly\u001b[39;49m\u001b[39m\"\u001b[39;49m)\n",
      "File \u001b[0;32m~/src/KengoA/fantasy-basketball/venv/lib/python3.9/site-packages/_plotly_future_/__init__.py:43\u001b[0m, in \u001b[0;36m_chart_studio_error\u001b[0;34m(submodule)\u001b[0m\n\u001b[1;32m     42\u001b[0m \u001b[39mdef\u001b[39;00m \u001b[39m_chart_studio_error\u001b[39m(submodule):\n\u001b[0;32m---> 43\u001b[0m     \u001b[39mraise\u001b[39;00m \u001b[39mImportError\u001b[39;00m(\n\u001b[1;32m     44\u001b[0m \u001b[39m        \u001b[39m\u001b[39m\"\"\"\u001b[39;00m\n\u001b[1;32m     45\u001b[0m \u001b[39mThe plotly.{submodule} module is deprecated,\u001b[39;00m\n\u001b[1;32m     46\u001b[0m \u001b[39mplease install the chart-studio package and use the\u001b[39;00m\n\u001b[1;32m     47\u001b[0m \u001b[39mchart_studio.{submodule} module instead. \u001b[39;00m\n\u001b[1;32m     48\u001b[0m \u001b[39m\"\"\"\u001b[39;00m\u001b[39m.\u001b[39mformat(\n\u001b[1;32m     49\u001b[0m             submodule\u001b[39m=\u001b[39msubmodule\n\u001b[1;32m     50\u001b[0m         )\n\u001b[1;32m     51\u001b[0m     )\n",
      "\u001b[0;31mImportError\u001b[0m: \nThe plotly.plotly module is deprecated,\nplease install the chart-studio package and use the\nchart_studio.plotly module instead. \n"
     ]
    }
   ],
   "source": [
    "import os\n",
    "import glob\n",
    "import time\n",
    "\n",
    "import numpy as np\n",
    "import pandas as pd\n",
    "import pandas_profiling\n",
    "\n",
    "import seaborn as sns\n",
    "import matplotlib.pyplot as plt\n",
    "\n",
    "import chart_studio\n",
    "import chart_studio.graph_objs as go\n",
    "import plotly.plotly as py\n",
    "import colorlover as cl\n",
    "\n",
    "from tqdm import tqdm_notebook as tqdm\n",
    "from datetime import datetime\n",
    "from IPython.display import HTML\n",
    "from sklearn.linear_model import LinearRegression\n",
    "\n",
    "from constants import DATA_DIR, PLOTLY_USERNAME, PLOTLY_API_KEY"
   ]
  },
  {
   "cell_type": "code",
   "execution_count": null,
   "metadata": {
    "ExecuteTime": {
     "end_time": "2019-05-26T05:56:13.896565Z",
     "start_time": "2019-05-26T05:56:13.750609Z"
    }
   },
   "outputs": [],
   "source": [
    "plotly.offline.init_notebook_mode(connected=False)\n",
    "pd.set_option(\"display.max_columns\", 30)"
   ]
  },
  {
   "cell_type": "code",
   "execution_count": null,
   "metadata": {
    "ExecuteTime": {
     "end_time": "2019-05-25T21:27:35.715927Z",
     "start_time": "2019-05-25T21:27:35.709464Z"
    }
   },
   "outputs": [],
   "source": [
    "# Specify your own username and api_key in constants.py, only need to be set once\n",
    "# plotly.tools.set_credentials_file(username=PLOTLY_USERNAME, api_key='PLOTLY_API_KEY')"
   ]
  },
  {
   "cell_type": "code",
   "execution_count": null,
   "metadata": {
    "ExecuteTime": {
     "end_time": "2019-05-26T05:56:17.496854Z",
     "start_time": "2019-05-26T05:56:17.265672Z"
    }
   },
   "outputs": [],
   "source": [
    "# Explore the latest season data\n",
    "season = \"2018-19\"\n",
    "df = pd.read_csv(\n",
    "    os.path.join(DATA_DIR, \"Dataframes\", \"Merged\", \"df_{}.csv\".format(season))\n",
    ")\n",
    "\n",
    "# Filter out irrelevant rows with no salary or zero minutes played\n",
    "df = df.loc[df[\"Salary\"] != 0]\n",
    "df = df.loc[df[\"MP\"] != 0].reset_index(drop=True)"
   ]
  },
  {
   "cell_type": "markdown",
   "metadata": {},
   "source": [
    "### Preparing Dataframes for Latest Data"
   ]
  },
  {
   "cell_type": "code",
   "execution_count": null,
   "metadata": {
    "ExecuteTime": {
     "end_time": "2019-05-26T05:56:28.939278Z",
     "start_time": "2019-05-26T05:56:19.793298Z"
    }
   },
   "outputs": [],
   "source": [
    "# Create a new dataframe based on latest salary information at the end of the 2018-19 season\n",
    "names = list(set(df[\"Name\"]))\n",
    "df = df.sort_values(by=\"Date\", ascending=False).reset_index(drop=True)\n",
    "\n",
    "salary_pos = {\n",
    "    \"Date\": [],\n",
    "    \"Name\": [],\n",
    "    \"Salary\": [],\n",
    "    \"PG\": [],\n",
    "    \"SG\": [],\n",
    "    \"F\": [],\n",
    "    \"C\": [],\n",
    "}\n",
    "\n",
    "for name in tqdm(names):\n",
    "    for i in range(df.shape[0]):\n",
    "        if name == df.loc[i, \"Name\"]:\n",
    "            if name not in salary_pos[\"Name\"]:\n",
    "                salary_pos[\"Name\"].append(name)\n",
    "                salary_pos[\"Salary\"].append(df.loc[i, \"Salary\"])\n",
    "                salary_pos[\"PG\"].append(df.loc[i, \"PG\"])\n",
    "                salary_pos[\"SG\"].append(df.loc[i, \"SG\"])\n",
    "                salary_pos[\"F\"].append(df.loc[i, \"F\"])\n",
    "                salary_pos[\"C\"].append(df.loc[i, \"C\"])\n",
    "                salary_pos[\"Date\"].append(\n",
    "                    datetime.strptime(str(df.loc[i, \"Date\"]), \"%Y%m%d\")\n",
    "                )\n",
    "                break\n",
    "\n",
    "df_salary_pos = pd.DataFrame(salary_pos)"
   ]
  },
  {
   "cell_type": "code",
   "execution_count": null,
   "metadata": {
    "ExecuteTime": {
     "end_time": "2019-05-26T05:56:40.544862Z",
     "start_time": "2019-05-26T05:56:38.263492Z"
    }
   },
   "outputs": [],
   "source": [
    "# Create a dataframe for risk and return over the past 10 games and merge them with salary\n",
    "returns, risks, actual = [], [], []\n",
    "\n",
    "for name in tqdm(names):\n",
    "    df_tmp = (\n",
    "        df.loc[df[\"Name\"] == name]\n",
    "        .sort_values(by=\"Date\", ascending=False)\n",
    "        .reset_index(drop=True)\n",
    "    )\n",
    "    actual.append(df_tmp.loc[0, \"FPTS\"])\n",
    "    returns.append(df_tmp.loc[1:11, \"FPTS\"].mean())\n",
    "    risks.append(df_tmp.loc[1:11, \"FPTS\"].std())\n",
    "\n",
    "df_rr = pd.DataFrame(\n",
    "    {\"Name\": names, \"Actual\": actual, \"Expected Return\": returns, \"Risk\": risks}\n",
    ")\n",
    "df_rr = pd.merge(df_rr, df_salary_pos, on=\"Name\")\n",
    "\n",
    "columns = [\n",
    "    \"Date\",\n",
    "    \"Name\",\n",
    "    \"Salary\",\n",
    "    \"Actual\",\n",
    "    \"Expected Return\",\n",
    "    \"Risk\",\n",
    "    \"PG\",\n",
    "    \"SG\",\n",
    "    \"F\",\n",
    "    \"C\",\n",
    "]\n",
    "df_rr = df_rr.loc[:, columns].dropna().reset_index(drop=True)"
   ]
  },
  {
   "cell_type": "markdown",
   "metadata": {},
   "source": [
    "### Exploring Risk-Return Relationship"
   ]
  },
  {
   "cell_type": "code",
   "execution_count": null,
   "metadata": {
    "ExecuteTime": {
     "end_time": "2019-05-26T05:56:48.915988Z",
     "start_time": "2019-05-26T05:56:45.729598Z"
    },
    "scrolled": false
   },
   "outputs": [],
   "source": [
    "data = []\n",
    "\n",
    "for pos in [\"PG\", \"SG\", \"F\", \"C\"]:\n",
    "    df_pos = df_rr[df_rr[pos] == 1].reset_index(drop=True)\n",
    "\n",
    "    trace = go.Scatter(\n",
    "        x=df_pos[\"Risk\"],\n",
    "        y=df_pos[\"Expected Return\"],\n",
    "        mode=\"markers\",\n",
    "        text=df_pos[\"Name\"],\n",
    "        name=pos,\n",
    "    )\n",
    "    data.append(trace)\n",
    "\n",
    "    layout = go.Layout(\n",
    "        title=\"Risk-Return Relationship (2018-19)\",\n",
    "        legend={\"x\": 0.075, \"y\": 1, \"borderwidth\": 1},\n",
    "        hovermode=\"closest\",\n",
    "        xaxis={\"title\": \"Risk (Standard Deviation)\"},\n",
    "        yaxis={\"title\": \"Expected Return (10-game Average)\"},\n",
    "    )\n",
    "\n",
    "\n",
    "fig = go.Figure(data=data, layout=layout)\n",
    "\n",
    "plot_url = py.plot(fig, filename=\"risk_return\")\n",
    "plotly.offline.iplot(fig)"
   ]
  },
  {
   "cell_type": "markdown",
   "metadata": {
    "ExecuteTime": {
     "end_time": "2019-05-25T23:00:50.792959Z",
     "start_time": "2019-05-25T23:00:50.788658Z"
    }
   },
   "source": [
    "### Exploring Expected vs Actual with 10-game average"
   ]
  },
  {
   "cell_type": "code",
   "execution_count": null,
   "metadata": {
    "ExecuteTime": {
     "end_time": "2019-05-26T05:56:58.640900Z",
     "start_time": "2019-05-26T05:56:56.219846Z"
    }
   },
   "outputs": [],
   "source": [
    "data = []\n",
    "\n",
    "for pos in [\"PG\", \"SG\", \"F\", \"C\"]:\n",
    "    df_pos = df_rr[df_rr[pos] == 1].reset_index(drop=True)\n",
    "\n",
    "    trace = go.Scatter(\n",
    "        x=df_pos[\"Expected Return\"],\n",
    "        y=df_pos[\"Actual\"],\n",
    "        mode=\"markers\",\n",
    "        text=df_pos[\"Name\"],\n",
    "        name=pos,\n",
    "    )\n",
    "    data.append(trace)\n",
    "\n",
    "    layout = go.Layout(\n",
    "        title=\"Expected-Actual Relationship (2018-19)\",\n",
    "        legend={\"x\": 0.075, \"y\": 1, \"borderwidth\": 1},\n",
    "        hovermode=\"closest\",\n",
    "        xaxis={\"title\": \"Expected Return (10-game Average)\"},\n",
    "        yaxis={\"title\": \"Actual FPTS\"},\n",
    "    )\n",
    "\n",
    "reg = LinearRegression()\n",
    "reg.fit(\n",
    "    df_rr[\"Expected Return\"].values.reshape(-1, 1),\n",
    "    df_rr[\"Actual\"].values.reshape(-1, 1),\n",
    ")\n",
    "\n",
    "x = np.random.randint(0, 65, 1000).tolist()\n",
    "y = reg.intercept_ + reg.coef_ * x\n",
    "reg_line = go.Scatter(\n",
    "    x=x,\n",
    "    y=y.flatten().tolist(),\n",
    "    mode=\"lines\",\n",
    "    line={\"color\": \"navy\", \"width\": 1},\n",
    "    name=\"Reg\",\n",
    ")\n",
    "\n",
    "data.append(reg_line)\n",
    "\n",
    "fig = go.Figure(data=data, layout=layout)\n",
    "\n",
    "plot_url = py.plot(fig, filename=\"expected_actual\")\n",
    "plotly.offline.iplot(fig)"
   ]
  },
  {
   "cell_type": "markdown",
   "metadata": {
    "ExecuteTime": {
     "end_time": "2018-04-01T15:27:57.402948Z",
     "start_time": "2018-04-01T15:27:57.399617Z"
    }
   },
   "source": [
    "### Exploring Expected vs Actual with Fantasy Salary Info"
   ]
  },
  {
   "cell_type": "code",
   "execution_count": null,
   "metadata": {
    "ExecuteTime": {
     "end_time": "2019-05-26T06:09:17.960850Z",
     "start_time": "2019-05-26T06:09:15.304788Z"
    },
    "scrolled": false
   },
   "outputs": [],
   "source": [
    "data = []\n",
    "df_sr = df_rr[df_rr[\"Salary\"] >= 3000]\n",
    "\n",
    "for pos in [\"PG\", \"SG\", \"F\", \"C\"]:\n",
    "    df_pos = df_sr[df_sr[pos] == 1].reset_index(drop=True)\n",
    "    # Create a new column to display the name and date (i.e. S.Curry 04/10)\n",
    "    df_pos[\"Name_Date\"] = [\n",
    "        name[0] + \".\" + name.split(\" \")[1] + \" \" + date.strftime(\"%m/%d\")\n",
    "        for name, date in zip(df_pos[\"Name\"], df_pos[\"Date\"])\n",
    "    ]\n",
    "\n",
    "    trace = go.Scatter(\n",
    "        x=df_pos[\"Salary\"],\n",
    "        y=df_pos[\"Actual\"],\n",
    "        mode=\"markers\",\n",
    "        text=df_pos[\"Name_Date\"],\n",
    "        name=pos,\n",
    "    )\n",
    "    data.append(trace)\n",
    "\n",
    "    layout = go.Layout(\n",
    "        title=\"Salary-Return Relationship\",\n",
    "        legend={\"x\": 0.9, \"y\": 0.2, \"borderwidth\": 1},\n",
    "        hovermode=\"closest\",\n",
    "        xaxis={\"title\": \"Salary\"},\n",
    "        yaxis={\"title\": \"Actual Return\"},\n",
    "    )\n",
    "\n",
    "\n",
    "reg = LinearRegression()\n",
    "reg.fit(df_sr[\"Salary\"].values.reshape(-1, 1), df_sr[\"Actual\"].values.reshape(-1, 1))\n",
    "\n",
    "x = np.random.randint(2800, 14300, 1000).tolist()\n",
    "y = reg.intercept_ + reg.coef_ * x\n",
    "reg_line = go.Scatter(\n",
    "    x=x,\n",
    "    y=y.flatten().tolist(),\n",
    "    mode=\"lines\",\n",
    "    line={\"color\": \"navy\", \"width\": 1},\n",
    "    name=\"Reg\",\n",
    ")\n",
    "\n",
    "data.append(reg_line)\n",
    "\n",
    "fig = go.Figure(data=data, layout=layout)\n",
    "\n",
    "plot_url = py.plot(fig, filename=\"salary-return\")\n",
    "plotly.offline.iplot(fig)"
   ]
  },
  {
   "cell_type": "markdown",
   "metadata": {},
   "source": [
    "### Visualize the Progression of Stars and Rookies"
   ]
  },
  {
   "cell_type": "code",
   "execution_count": null,
   "metadata": {
    "ExecuteTime": {
     "end_time": "2019-05-26T06:32:32.664361Z",
     "start_time": "2019-05-26T06:32:32.645399Z"
    },
    "code_folding": []
   },
   "outputs": [],
   "source": [
    "def visualize_salary(df, names):\n",
    "    window = 5\n",
    "\n",
    "    for key in names.keys():\n",
    "        data = []\n",
    "\n",
    "        for name in names[key]:\n",
    "            df_focus = (\n",
    "                df[df[\"Name\"] == name].sort_values(by=\"Date\").reset_index(drop=True)\n",
    "            )\n",
    "            df_focus[\"Date\"] = [\n",
    "                pd.to_datetime(str(date), format=\"%Y%m%d\") for date in df_focus[\"Date\"]\n",
    "            ]\n",
    "\n",
    "            x = [date for date in df_focus[\"Date\"]][window:]\n",
    "            y = df_focus[\"Salary\"].rolling(window).mean()\n",
    "\n",
    "            name_short = \". \".join([name.split(\" \")[0][0], name.split(\" \")[1]])\n",
    "\n",
    "            scatter = go.Scatter(\n",
    "                x=x, y=y, mode=\"lines\", text=df_focus[\"Name\"], name=name_short\n",
    "            )\n",
    "\n",
    "            data.append(scatter)\n",
    "\n",
    "        layout = go.Layout(\n",
    "            title=\"Evolution of {} ({}-day rolling mean)\".format(key, window),\n",
    "            legend={\"x\": 1.02, \"y\": 0.5, \"borderwidth\": 1},\n",
    "            hovermode=\"closest\",\n",
    "            xaxis={\"title\": \"Date\"},\n",
    "            yaxis={\"title\": \"Salary\"},\n",
    "        )\n",
    "\n",
    "        fig = go.Figure(data=data, layout=layout)\n",
    "        plotly.offline.iplot(fig)"
   ]
  },
  {
   "cell_type": "code",
   "execution_count": null,
   "metadata": {
    "ExecuteTime": {
     "end_time": "2019-05-26T06:32:49.136538Z",
     "start_time": "2019-05-26T06:32:48.414411Z"
    },
    "code_folding": []
   },
   "outputs": [],
   "source": [
    "players = {\n",
    "    \"Stars\": [\n",
    "        \"LeBron James\",\n",
    "        \"Russell Westbrook\",\n",
    "        \"James Harden\",\n",
    "        \"Anthony Davis\",\n",
    "        \"Kevin Durant\",\n",
    "    ],\n",
    "    \"Rookies\": [\n",
    "        \"Deandre Ayton\",\n",
    "        \"Luka Doncic\",\n",
    "        \"Trae Young\",\n",
    "        \"Jaren Jackson\",\n",
    "        \"Collin Sexton\",\n",
    "        \"Marvin Bagley\",\n",
    "        \"Mohamed Bamba\",\n",
    "    ],\n",
    "}\n",
    "visualize_salary(df, players)"
   ]
  },
  {
   "cell_type": "markdown",
   "metadata": {},
   "source": [
    "### Visualize Top 10 Performances"
   ]
  },
  {
   "cell_type": "code",
   "execution_count": null,
   "metadata": {
    "ExecuteTime": {
     "end_time": "2019-05-26T06:33:42.889614Z",
     "start_time": "2019-05-26T06:33:42.879662Z"
    }
   },
   "outputs": [],
   "source": [
    "def visualize_top_n(df, stats, n):\n",
    "    for stat in stats:\n",
    "        data = []\n",
    "\n",
    "        colors = cl.scales[\"11\"][\"qual\"][\"Paired\"]\n",
    "        positions = list(set(df[\"Pos\"]))\n",
    "        pos_color = {}\n",
    "\n",
    "        for i, pos in enumerate(positions):\n",
    "            pos_color[pos] = colors[i]\n",
    "\n",
    "        df_stat = (\n",
    "            df.sort_values(by=stat, ascending=False)\n",
    "            .drop_duplicates(subset=\"Name\")\n",
    "            .reset_index(drop=True)\n",
    "            .head(n)\n",
    "        )\n",
    "\n",
    "        bar = go.Bar(\n",
    "            x=df_stat[\"Name\"],\n",
    "            y=df_stat[stat],\n",
    "            marker={\"color\": [pos_color[pos] for pos in df_stat[\"Pos\"]]},\n",
    "            text=[pos for pos in df_stat[\"Pos\"]],\n",
    "        )\n",
    "\n",
    "        data.append(bar)\n",
    "\n",
    "        layout = go.Layout(\n",
    "            title=\"Top 10 in {}\".format(stat),\n",
    "            legend={\"x\": 1, \"y\": 1, \"borderwidth\": 1},\n",
    "            hovermode=\"closest\",\n",
    "            yaxis={\"title\": \"{}\".format(stat)},\n",
    "        )\n",
    "\n",
    "        fig = go.Figure(data=data, layout=layout)\n",
    "        plotly.offline.iplot(fig)"
   ]
  },
  {
   "cell_type": "code",
   "execution_count": null,
   "metadata": {
    "ExecuteTime": {
     "end_time": "2019-05-26T06:33:46.483990Z",
     "start_time": "2019-05-26T06:33:45.531199Z"
    },
    "scrolled": false
   },
   "outputs": [],
   "source": [
    "visualize_top_n(df, [\"PTS\", \"3P\", \"AST\", \"TRB\", \"STL\", \"BLK\"], 10)"
   ]
  }
 ],
 "metadata": {
  "kernelspec": {
   "display_name": "venv",
   "language": "python",
   "name": "python3"
  },
  "language_info": {
   "codemirror_mode": {
    "name": "ipython",
    "version": 3
   },
   "file_extension": ".py",
   "mimetype": "text/x-python",
   "name": "python",
   "nbconvert_exporter": "python",
   "pygments_lexer": "ipython3",
   "version": "3.9.6"
  },
  "varInspector": {
   "cols": {
    "lenName": 16,
    "lenType": 16,
    "lenVar": 40
   },
   "kernels_config": {
    "python": {
     "delete_cmd_postfix": "",
     "delete_cmd_prefix": "del ",
     "library": "var_list.py",
     "varRefreshCmd": "print(var_dic_list())"
    },
    "r": {
     "delete_cmd_postfix": ") ",
     "delete_cmd_prefix": "rm(",
     "library": "var_list.r",
     "varRefreshCmd": "cat(var_dic_list()) "
    }
   },
   "types_to_exclude": [
    "module",
    "function",
    "builtin_function_or_method",
    "instance",
    "_Feature"
   ],
   "window_display": false
  },
  "vscode": {
   "interpreter": {
    "hash": "2e9f85711d675251e4e6c92db989e987b0f16da61e903a803bff5971dd18ff93"
   }
  }
 },
 "nbformat": 4,
 "nbformat_minor": 2
}
