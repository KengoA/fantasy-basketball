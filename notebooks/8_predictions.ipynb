{
 "cells": [
  {
   "cell_type": "markdown",
   "metadata": {
    "ExecuteTime": {
     "end_time": "2018-05-20T12:28:32.643440Z",
     "start_time": "2018-05-20T12:28:32.606527Z"
    }
   },
   "source": [
    "### Predictions on Test Dataset\n",
    "Train with the best models from Linear Regression, LightGBM, and Neural Networks and make predictions on the test data of March 2019 to create lineups."
   ]
  },
  {
   "cell_type": "code",
   "execution_count": 66,
   "metadata": {
    "ExecuteTime": {
     "end_time": "2019-06-28T18:53:58.418909Z",
     "start_time": "2019-06-28T18:53:58.408195Z"
    }
   },
   "outputs": [],
   "source": [
    "import os\n",
    "import glob\n",
    "import warnings\n",
    "\n",
    "import numpy as np\n",
    "import pandas as pd\n",
    "import lightgbm as lgb\n",
    "import matplotlib.pyplot as plt\n",
    "\n",
    "from tqdm import tqdm_notebook as tqdm\n",
    "from sklearn.preprocessing import MinMaxScaler\n",
    "\n",
    "from keras import backend as K\n",
    "from keras.models import Sequential\n",
    "from keras.layers import Dense, Dropout\n",
    "from keras.wrappers.scikit_learn import KerasRegressor\n",
    "\n",
    "import utils\n",
    "from constants import DATA_DIR"
   ]
  },
  {
   "cell_type": "code",
   "execution_count": 67,
   "metadata": {
    "ExecuteTime": {
     "end_time": "2019-06-28T18:54:02.754846Z",
     "start_time": "2019-06-28T18:54:02.747022Z"
    }
   },
   "outputs": [],
   "source": [
    "np.random.seed(23)\n",
    "warnings.filterwarnings(\"ignore\")"
   ]
  },
  {
   "cell_type": "code",
   "execution_count": 68,
   "metadata": {
    "ExecuteTime": {
     "end_time": "2019-06-28T18:54:03.492878Z",
     "start_time": "2019-06-28T18:54:03.480922Z"
    }
   },
   "outputs": [],
   "source": [
    "def root_mean_squared_error(y_true, y_pred):\n",
    "    return K.sqrt(K.mean(K.square(y_pred - y_true)))\n",
    "\n",
    "\n",
    "def model_1():\n",
    "    model = Sequential()\n",
    "    model.add(Dense(X.shape[1], input_dim=X.shape[1], activation=\"relu\"))\n",
    "    model.add(Dense(64, activation=\"relu\"))\n",
    "    model.add(Dense(32, activation=\"relu\"))\n",
    "    model.add(Dense(1))\n",
    "    model.compile(loss=root_mean_squared_error, optimizer=\"adam\")\n",
    "    model.summary()\n",
    "    return model"
   ]
  },
  {
   "cell_type": "code",
   "execution_count": 69,
   "metadata": {
    "ExecuteTime": {
     "end_time": "2019-06-28T18:54:08.659211Z",
     "start_time": "2019-06-28T18:54:08.647219Z"
    }
   },
   "outputs": [],
   "source": [
    "def save_pred(predictor, y_pred):\n",
    "    df_pred = df_features.loc[\n",
    "        test_indices, [\"Date\", \"Name\", \"Team\", \"FPTS\", \"Pos\", \"Salary\"]\n",
    "    ]\n",
    "    df_pred[\"Pred\"] = y_pred\n",
    "    df_pred.to_csv(\n",
    "        os.path.join(\n",
    "            DATA_DIR,\n",
    "            \"Predictions/{}-{}.csv\".format(\n",
    "                pd.Timestamp.now().strftime(\"%Y%m%d-%Hh%Mm\"), predictor\n",
    "            ),\n",
    "        ),\n",
    "        index=False,\n",
    "    )"
   ]
  },
  {
   "cell_type": "code",
   "execution_count": 62,
   "metadata": {
    "ExecuteTime": {
     "end_time": "2019-06-28T18:35:44.497170Z",
     "start_time": "2019-06-28T18:35:42.652401Z"
    }
   },
   "outputs": [],
   "source": [
    "weighting = \"quad\"\n",
    "df_features = utils.csv_concatenate(\n",
    "    os.path.join(DATA_DIR, \"Dataframes\", \"Modelling\", \"Features\", weighting)\n",
    ")\n",
    "df_features = df_features.sort_values(by=[\"Date\", \"Name\"]).reset_index(drop=True)\n",
    "features = df_features.columns[5:]"
   ]
  },
  {
   "cell_type": "code",
   "execution_count": 70,
   "metadata": {
    "ExecuteTime": {
     "end_time": "2019-06-28T18:54:16.010835Z",
     "start_time": "2019-06-28T18:54:15.745139Z"
    }
   },
   "outputs": [],
   "source": [
    "target_month = 201903\n",
    "\n",
    "start = 20190301\n",
    "end = 20190331\n",
    "\n",
    "test_indices = (df_features[\"Date\"] >= start) & (df_features[\"Date\"] <= end)\n",
    "train_indices = [not value for value in test_indices]\n",
    "\n",
    "X_train = df_features.loc[train_indices, features]\n",
    "X_test = df_features.loc[test_indices, features]\n",
    "\n",
    "y_train = df_features.loc[train_indices, \"FPTS\"].values.reshape(-1, 1).flatten()\n",
    "y_test = df_features.loc[test_indices, \"FPTS\"].values.reshape(-1, 1).flatten()\n",
    "\n",
    "X_train = MinMaxScaler().fit_transform(X_train)\n",
    "X_test = MinMaxScaler().fit_transform(X_test)"
   ]
  },
  {
   "cell_type": "markdown",
   "metadata": {},
   "source": [
    "### LightGBM"
   ]
  },
  {
   "cell_type": "code",
   "execution_count": 72,
   "metadata": {
    "ExecuteTime": {
     "end_time": "2019-06-28T19:42:13.294144Z",
     "start_time": "2019-06-28T19:31:41.515711Z"
    }
   },
   "outputs": [
    {
     "data": {
      "text/html": [
       "<div>\n",
       "<style scoped>\n",
       "    .dataframe tbody tr th:only-of-type {\n",
       "        vertical-align: middle;\n",
       "    }\n",
       "\n",
       "    .dataframe tbody tr th {\n",
       "        vertical-align: top;\n",
       "    }\n",
       "\n",
       "    .dataframe thead th {\n",
       "        text-align: right;\n",
       "    }\n",
       "</style>\n",
       "<table border=\"1\" class=\"dataframe\">\n",
       "  <thead>\n",
       "    <tr style=\"text-align: right;\">\n",
       "      <th></th>\n",
       "      <th>index</th>\n",
       "      <th>target</th>\n",
       "      <th>params</th>\n",
       "    </tr>\n",
       "  </thead>\n",
       "  <tbody>\n",
       "    <tr>\n",
       "      <th>0</th>\n",
       "      <td>17</td>\n",
       "      <td>-9.080672</td>\n",
       "      <td>{'bagging_fraction': 0.9397558879953231, 'feat...</td>\n",
       "    </tr>\n",
       "    <tr>\n",
       "      <th>1</th>\n",
       "      <td>13</td>\n",
       "      <td>-9.080783</td>\n",
       "      <td>{'bagging_fraction': 0.8967783942656771, 'feat...</td>\n",
       "    </tr>\n",
       "    <tr>\n",
       "      <th>2</th>\n",
       "      <td>3</td>\n",
       "      <td>-9.082169</td>\n",
       "      <td>{'bagging_fraction': 0.965750296864551, 'featu...</td>\n",
       "    </tr>\n",
       "    <tr>\n",
       "      <th>3</th>\n",
       "      <td>19</td>\n",
       "      <td>-9.082335</td>\n",
       "      <td>{'bagging_fraction': 0.8, 'feature_fraction': ...</td>\n",
       "    </tr>\n",
       "    <tr>\n",
       "      <th>4</th>\n",
       "      <td>5</td>\n",
       "      <td>-9.083474</td>\n",
       "      <td>{'bagging_fraction': 0.9803204385614761, 'feat...</td>\n",
       "    </tr>\n",
       "  </tbody>\n",
       "</table>\n",
       "</div>"
      ],
      "text/plain": [
       "   index    target                                             params\n",
       "0     17 -9.080672  {'bagging_fraction': 0.9397558879953231, 'feat...\n",
       "1     13 -9.080783  {'bagging_fraction': 0.8967783942656771, 'feat...\n",
       "2      3 -9.082169  {'bagging_fraction': 0.965750296864551, 'featu...\n",
       "3     19 -9.082335  {'bagging_fraction': 0.8, 'feature_fraction': ...\n",
       "4      5 -9.083474  {'bagging_fraction': 0.9803204385614761, 'feat..."
      ]
     },
     "metadata": {},
     "output_type": "display_data"
    },
    {
     "name": "stdout",
     "output_type": "stream",
     "text": [
      "<--- Testing Error --->\n",
      "8.283806238168077\n",
      "10.71637699430448\n"
     ]
    }
   ],
   "source": [
    "path_params = sorted(glob.glob(DATA_DIR + \"/Models/LightGBM/Params/*.json\"))[-1]\n",
    "df_params = pd.read_json(path_params, lines=True)\n",
    "df_params = (\n",
    "    df_params.loc[:, [\"target\", \"params\"]]\n",
    "    .sort_values(by=\"target\", ascending=False)\n",
    "    .reset_index()\n",
    ")\n",
    "display(df_params.head(5))\n",
    "\n",
    "\n",
    "opt_params = df_params.loc[0, \"params\"]\n",
    "\n",
    "for key in opt_params.keys():\n",
    "    if key in [\"max_depth\", \"num_leaves\", \"n_estimators\"]:\n",
    "        opt_params[key] = int(round(opt_params[key]))\n",
    "\n",
    "d_train = lgb.Dataset(X_train, label=y_train)\n",
    "reg = lgb.train(opt_params, d_train)\n",
    "y_pred = reg.predict(X_test)\n",
    "\n",
    "print(\"<--- Testing Error --->\")\n",
    "print(utils.calculate_MAE(y_pred, y_test))\n",
    "print(utils.calculate_RMSE(y_pred, y_test))\n",
    "\n",
    "save_pred(\"lgb\", y_pred)"
   ]
  },
  {
   "cell_type": "markdown",
   "metadata": {},
   "source": [
    "### NN"
   ]
  },
  {
   "cell_type": "code",
   "execution_count": 73,
   "metadata": {
    "ExecuteTime": {
     "end_time": "2019-06-28T19:47:57.846904Z",
     "start_time": "2019-06-28T19:44:50.951652Z"
    },
    "hidden": true,
    "scrolled": false
   },
   "outputs": [
    {
     "name": "stdout",
     "output_type": "stream",
     "text": [
      "_________________________________________________________________\n",
      "Layer (type)                 Output Shape              Param #   \n",
      "=================================================================\n",
      "dense_25 (Dense)             (None, 41)                1722      \n",
      "_________________________________________________________________\n",
      "dense_26 (Dense)             (None, 64)                2688      \n",
      "_________________________________________________________________\n",
      "dense_27 (Dense)             (None, 32)                2080      \n",
      "_________________________________________________________________\n",
      "dense_28 (Dense)             (None, 1)                 33        \n",
      "=================================================================\n",
      "Total params: 6,523\n",
      "Trainable params: 6,523\n",
      "Non-trainable params: 0\n",
      "_________________________________________________________________\n",
      "Train on 91903 samples, validate on 22976 samples\n",
      "Epoch 1/28\n",
      "91903/91903 [==============================] - 9s 102us/step - loss: 9.4883 - val_loss: 9.4745\n",
      "Epoch 2/28\n",
      "91903/91903 [==============================] - 9s 94us/step - loss: 9.1356 - val_loss: 9.5022\n",
      "Epoch 3/28\n",
      "91903/91903 [==============================] - 8s 91us/step - loss: 9.0942 - val_loss: 9.4689\n",
      "Epoch 4/28\n",
      "91903/91903 [==============================] - 9s 97us/step - loss: 9.0704 - val_loss: 9.4054\n",
      "Epoch 5/28\n",
      "91903/91903 [==============================] - 7s 71us/step - loss: 9.0552 - val_loss: 9.4057\n",
      "Epoch 6/28\n",
      "91903/91903 [==============================] - 6s 62us/step - loss: 9.0325 - val_loss: 9.4467\n",
      "Epoch 7/28\n",
      "91903/91903 [==============================] - 6s 63us/step - loss: 9.0055 - val_loss: 9.4015\n",
      "Epoch 8/28\n",
      "91903/91903 [==============================] - 6s 64us/step - loss: 8.9830 - val_loss: 9.3881\n",
      "Epoch 9/28\n",
      "91903/91903 [==============================] - 6s 67us/step - loss: 8.9625 - val_loss: 9.6552\n",
      "Epoch 10/28\n",
      "91903/91903 [==============================] - 6s 66us/step - loss: 8.9492 - val_loss: 9.3792\n",
      "Epoch 11/28\n",
      "91903/91903 [==============================] - 6s 65us/step - loss: 8.9381 - val_loss: 9.4965\n",
      "Epoch 12/28\n",
      "91903/91903 [==============================] - 6s 64us/step - loss: 8.9424 - val_loss: 9.3862\n",
      "Epoch 13/28\n",
      "91903/91903 [==============================] - 6s 69us/step - loss: 8.9322 - val_loss: 9.5981\n",
      "Epoch 14/28\n",
      "91903/91903 [==============================] - 6s 66us/step - loss: 8.9291 - val_loss: 9.5126\n",
      "Epoch 15/28\n",
      "91903/91903 [==============================] - 6s 65us/step - loss: 8.9164 - val_loss: 9.4445\n",
      "Epoch 16/28\n",
      "91903/91903 [==============================] - 6s 68us/step - loss: 8.9129 - val_loss: 9.3692\n",
      "Epoch 17/28\n",
      "91903/91903 [==============================] - 6s 64us/step - loss: 8.9206 - val_loss: 9.4609\n",
      "Epoch 18/28\n",
      "91903/91903 [==============================] - 6s 66us/step - loss: 8.9095 - val_loss: 9.3664\n",
      "Epoch 19/28\n",
      "91903/91903 [==============================] - 6s 62us/step - loss: 8.9073 - val_loss: 9.3370\n",
      "Epoch 20/28\n",
      "91903/91903 [==============================] - 6s 67us/step - loss: 8.9089 - val_loss: 9.3397\n",
      "Epoch 21/28\n",
      "91903/91903 [==============================] - 6s 69us/step - loss: 8.9009 - val_loss: 9.3992\n",
      "Epoch 22/28\n",
      "91903/91903 [==============================] - 6s 67us/step - loss: 8.9023 - val_loss: 9.3987\n",
      "Epoch 23/28\n",
      "91903/91903 [==============================] - 6s 64us/step - loss: 8.9011 - val_loss: 9.5159\n",
      "Epoch 24/28\n",
      "91903/91903 [==============================] - 6s 69us/step - loss: 8.8997 - val_loss: 9.4761\n",
      "Epoch 25/28\n",
      "91903/91903 [==============================] - 6s 66us/step - loss: 8.9016 - val_loss: 9.3862\n",
      "Epoch 26/28\n",
      "91903/91903 [==============================] - 6s 67us/step - loss: 8.8971 - val_loss: 9.4073\n",
      "Epoch 27/28\n",
      "91903/91903 [==============================] - 6s 60us/step - loss: 8.8875 - val_loss: 9.3807\n",
      "Epoch 28/28\n",
      "91903/91903 [==============================] - 11s 123us/step - loss: 8.8945 - val_loss: 9.4740\n",
      "5126/5126 [==============================] - 0s 92us/step\n",
      "<--- Testing Error --->\n",
      "7.825948854198318\n",
      "10.599854137007146\n"
     ]
    }
   ],
   "source": [
    "model = KerasRegressor(\n",
    "    build_fn=model_1,\n",
    "    epochs=28,\n",
    "    batch_size=32,\n",
    "    validation_split=0.2,\n",
    "    shuffle=True,\n",
    "    verbose=1,\n",
    ")\n",
    "\n",
    "model.fit(X_train, y_train)\n",
    "y_pred = model.predict(X_test)\n",
    "\n",
    "print(\"<--- Testing Error --->\")\n",
    "print(utils.calculate_MAE(y_pred, y_test))\n",
    "print(utils.calculate_RMSE(y_pred, y_test))\n",
    "\n",
    "save_pred(\"nn\", y_pred)"
   ]
  }
 ],
 "metadata": {
  "kernelspec": {
   "display_name": "Python 3",
   "language": "python",
   "name": "python3"
  },
  "language_info": {
   "codemirror_mode": {
    "name": "ipython",
    "version": 3
   },
   "file_extension": ".py",
   "mimetype": "text/x-python",
   "name": "python",
   "nbconvert_exporter": "python",
   "pygments_lexer": "ipython3",
   "version": "3.7.1"
  },
  "varInspector": {
   "cols": {
    "lenName": 16,
    "lenType": 16,
    "lenVar": 40
   },
   "kernels_config": {
    "python": {
     "delete_cmd_postfix": "",
     "delete_cmd_prefix": "del ",
     "library": "var_list.py",
     "varRefreshCmd": "print(var_dic_list())"
    },
    "r": {
     "delete_cmd_postfix": ") ",
     "delete_cmd_prefix": "rm(",
     "library": "var_list.r",
     "varRefreshCmd": "cat(var_dic_list()) "
    }
   },
   "types_to_exclude": [
    "module",
    "function",
    "builtin_function_or_method",
    "instance",
    "_Feature"
   ],
   "window_display": false
  }
 },
 "nbformat": 4,
 "nbformat_minor": 2
}
