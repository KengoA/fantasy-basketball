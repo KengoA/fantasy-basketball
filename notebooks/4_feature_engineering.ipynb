{
 "cells": [
  {
   "cell_type": "markdown",
   "metadata": {
    "ExecuteTime": {
     "end_time": "2018-05-20T14:35:35.200930Z",
     "start_time": "2018-05-20T14:35:35.194214Z"
    }
   },
   "source": [
    "### Variable Aggregation and Feature Engineering "
   ]
  },
  {
   "cell_type": "code",
   "execution_count": 12,
   "metadata": {
    "ExecuteTime": {
     "end_time": "2019-05-26T07:09:14.915352Z",
     "start_time": "2019-05-26T07:09:14.910991Z"
    }
   },
   "outputs": [],
   "source": [
    "import os\n",
    "import glob\n",
    "import numpy as np\n",
    "import pandas as pd\n",
    "import seaborn as sns\n",
    "import matplotlib.pyplot as plt\n",
    "from tqdm import tqdm_notebook as tqdm\n",
    "from datetime import datetime\n",
    "\n",
    "from constants import DATA_DIR, DF_FEATURES"
   ]
  },
  {
   "cell_type": "code",
   "execution_count": 13,
   "metadata": {
    "ExecuteTime": {
     "end_time": "2019-05-26T07:09:18.378307Z",
     "start_time": "2019-05-26T07:09:18.371983Z"
    }
   },
   "outputs": [],
   "source": [
    "pd.set_option(\"display.max_columns\", 30)\n",
    "pd.set_option(\"display.max_rows\", 100)"
   ]
  },
  {
   "cell_type": "code",
   "execution_count": 14,
   "metadata": {
    "ExecuteTime": {
     "end_time": "2019-05-26T07:09:18.992081Z",
     "start_time": "2019-05-26T07:09:18.986055Z"
    }
   },
   "outputs": [
    {
     "name": "stdout",
     "output_type": "stream",
     "text": [
      "The Cython extension is already loaded. To reload it, use:\n",
      "  %reload_ext Cython\n"
     ]
    }
   ],
   "source": [
    "%load_ext Cython"
   ]
  },
  {
   "cell_type": "markdown",
   "metadata": {},
   "source": [
    "### Dataframe for the Baseline Model\n",
    "Mean of past N-1 games for each statistic when predicting N-th game performance"
   ]
  },
  {
   "cell_type": "code",
   "execution_count": 27,
   "metadata": {
    "ExecuteTime": {
     "end_time": "2019-05-26T07:12:08.054517Z",
     "start_time": "2019-05-26T07:12:08.046962Z"
    }
   },
   "outputs": [],
   "source": [
    "def generate_baseline(df):\n",
    "    baseline = {\n",
    "        \"Date\": [],\n",
    "        \"Name\": [],\n",
    "        \"FPTS\": [],\n",
    "        \"PTS\": [],\n",
    "        \"3P\": [],\n",
    "        \"AST\": [],\n",
    "        \"TRB\": [],\n",
    "        \"STL\": [],\n",
    "        \"BLK\": [],\n",
    "        \"TOV\": [],\n",
    "        \"DD\": [],\n",
    "        \"TD\": [],\n",
    "    }\n",
    "\n",
    "    for i in tqdm(range(df.shape[0])):\n",
    "        date = df.loc[i, \"Date\"]\n",
    "        name = df.loc[i, \"Name\"]\n",
    "\n",
    "        df_name = df.loc[df[\"Name\"] == name].reset_index(drop=True)\n",
    "        index = df_name.loc[df_name[\"Date\"] == date].index[0]\n",
    "\n",
    "        # Check if there is past statistics available\n",
    "        # Same baseline as DraftKings official data where season average is taken\n",
    "        if index >= 1:\n",
    "            df_past = df_name[0:index].reset_index(drop=True)\n",
    "\n",
    "            for key in baseline.keys():\n",
    "                if key in [\"Date\", \"Name\", \"FPTS\"]:\n",
    "                    baseline[key].append(df_name.loc[index, key])\n",
    "\n",
    "                else:\n",
    "                    baseline[key].append(df_past[key].mean())\n",
    "\n",
    "    return pd.DataFrame(baseline)"
   ]
  },
  {
   "cell_type": "markdown",
   "metadata": {},
   "source": [
    "### Additional Statistics and Recency Effect"
   ]
  },
  {
   "cell_type": "code",
   "execution_count": 16,
   "metadata": {
    "ExecuteTime": {
     "end_time": "2019-05-26T07:09:23.837881Z",
     "start_time": "2019-05-26T07:09:23.827468Z"
    }
   },
   "outputs": [],
   "source": [
    "def draw_weights():\n",
    "    weights_dic = {}\n",
    "    weighting = [\"sqrt_0.5\", \"linear_1.0\", \"quad_2.0\"]\n",
    "\n",
    "    for key in weighting:\n",
    "        weights = np.array([np.power(i, float(key[-3:])) for i in range(1, 11)])\n",
    "        weights = weights / weights.sum()\n",
    "        weights_dic[key[:-4]] = weights\n",
    "\n",
    "    sns.set_style(\"darkgrid\")\n",
    "\n",
    "    for key in weights_dic.keys():\n",
    "        plt.plot(weights_dic[key])\n",
    "\n",
    "    plt.xlabel(\"n-th game\", fontsize=12)\n",
    "    plt.ylabel(\"Weight\", fontsize=12)\n",
    "    plt.xticks([i for i in range(0, 10)], [i for i in range(1, 11)])\n",
    "    plt.show()"
   ]
  },
  {
   "cell_type": "code",
   "execution_count": 17,
   "metadata": {
    "ExecuteTime": {
     "end_time": "2019-05-26T07:09:24.812260Z",
     "start_time": "2019-05-26T07:09:24.580638Z"
    }
   },
   "outputs": [
    {
     "data": {
      "image/png": "[encoded data removed]",
      "text/plain": [
       "<Figure size 432x288 with 1 Axes>"
      ]
     },
     "metadata": {},
     "output_type": "display_data"
    }
   ],
   "source": [
    "draw_weights()"
   ]
  },
  {
   "cell_type": "code",
   "execution_count": 31,
   "metadata": {
    "ExecuteTime": {
     "end_time": "2019-05-26T07:28:38.276602Z",
     "start_time": "2019-05-26T07:28:38.271574Z"
    }
   },
   "outputs": [],
   "source": [
    "%%cython\n",
    "def calculate_weighted_mean(list weights, values):\n",
    "    n = len(weights)\n",
    "    weighted_sum = [weights[i] * values[i] for i in range(n)]\n",
    "    weighted_mean = sum(weighted_sum) / sum(weights)\n",
    "    \n",
    "    return weighted_mean"
   ]
  },
  {
   "cell_type": "code",
   "execution_count": 30,
   "metadata": {
    "ExecuteTime": {
     "end_time": "2019-05-26T07:28:15.940546Z",
     "start_time": "2019-05-26T07:28:15.922389Z"
    }
   },
   "outputs": [],
   "source": [
    "def generate_features(df, weighting):\n",
    "    data = {\n",
    "        \"Date\": [],\n",
    "        \"Name\": [],\n",
    "        \"FPTS\": [],\n",
    "        # New feature\n",
    "        \"Rest\": [],\n",
    "        \"Value\": [],\n",
    "        \"FPTS_std\": [],\n",
    "        # Basic 9 Variables\n",
    "        \"PTS\": [],\n",
    "        \"3P\": [],\n",
    "        \"AST\": [],\n",
    "        \"TRB\": [],\n",
    "        \"STL\": [],\n",
    "        \"BLK\": [],\n",
    "        \"TOV\": [],\n",
    "        \"DD\": [],\n",
    "        \"TD\": [],\n",
    "        # Additional Variables from Basketball-Reference.com\n",
    "        \"MP\": [],\n",
    "        \"FT\": [],\n",
    "        \"FTA\": [],\n",
    "        \"FGA\": [],\n",
    "        \"3PA\": [],\n",
    "        \"DRB\": [],\n",
    "        \"ORB\": [],\n",
    "        # Advanced Statistics from Basketball-Reference.com\n",
    "        \"USG_perc\": [],\n",
    "        \"DRtg\": [],\n",
    "        \"ORtg\": [],\n",
    "        \"AST_perc\": [],\n",
    "        \"DRB_perc\": [],\n",
    "        \"ORB_perc\": [],\n",
    "        \"BLK_perc\": [],\n",
    "        \"TOV_perc\": [],\n",
    "        \"STL_perc\": [],\n",
    "        \"eFG_perc\": [],\n",
    "        \"FG_perc\": [],\n",
    "        \"3P_perc\": [],\n",
    "        \"FT_perc\": [],\n",
    "    }\n",
    "\n",
    "    for i in tqdm(range(df.shape[0])):\n",
    "        date = df.loc[i, \"Date\"]\n",
    "        name = df.loc[i, \"Name\"]\n",
    "\n",
    "        df_name = df.loc[df[\"Name\"] == name].reset_index(drop=True)\n",
    "        index = df_name.loc[df_name[\"Date\"] == date].index[0]\n",
    "\n",
    "        # Generate features from the past 10 games\n",
    "        if index >= 10:\n",
    "            df_past = df_name[index - 10 : index].reset_index(drop=True)\n",
    "\n",
    "            # Consider the number of days between the current game and the previous game\n",
    "            current = datetime.strptime(str(df_name.loc[index, \"Date\"]), \"%Y%m%d\")\n",
    "            previous = datetime.strptime(\n",
    "                str(df_past.loc[df_past.shape[0] - 1, \"Date\"]), \"%Y%m%d\"\n",
    "            )\n",
    "            rest = current - previous\n",
    "\n",
    "            data[\"Rest\"].append(rest.days)\n",
    "\n",
    "            # Weights higehr towards the most recent game\n",
    "            if weighting == \"linear\":\n",
    "                weights = [i for i in range(1, 11)]\n",
    "\n",
    "            elif weighting == \"quad\":\n",
    "                weights = [i**2 for i in range(1, 11)]\n",
    "\n",
    "            elif weighting == \"sqrt\":\n",
    "                weights = [i ** (1 / 2) for i in range(1, 11)]\n",
    "\n",
    "            for key in data.keys():\n",
    "                if key in [\"Date\", \"Name\", \"FPTS\"]:\n",
    "                    data[key].append(df_name.loc[index, key])\n",
    "                elif key == \"FPTS_std\":\n",
    "                    data[key].append(df_past[\"FPTS\"].std())\n",
    "                elif key != \"Rest\":\n",
    "                    weighted_mean = calculate_weighted_mean(weights, df_past[key])\n",
    "                    data[key].append(weighted_mean)\n",
    "\n",
    "    return pd.DataFrame(data)"
   ]
  },
  {
   "cell_type": "markdown",
   "metadata": {},
   "source": [
    "### Add Roster Availability "
   ]
  },
  {
   "cell_type": "code",
   "execution_count": 29,
   "metadata": {
    "ExecuteTime": {
     "end_time": "2019-05-26T07:28:14.132303Z",
     "start_time": "2019-05-26T07:28:14.123208Z"
    }
   },
   "outputs": [],
   "source": [
    "def add_roster_info(df):\n",
    "    df[\"Rota_All\"] = [0 for i in range(df.shape[0])]\n",
    "    df[\"Rota_Pos\"] = [0 for i in range(df.shape[0])]\n",
    "\n",
    "    for date in tqdm(list(set(df[\"Date\"]))):\n",
    "        for team in list(set(df[\"Team\"])):\n",
    "            df_rota = df.loc[(df[\"Date\"] == date) & (df[\"Team\"] == team)]\n",
    "\n",
    "            if df_rota.shape[0] != 0:\n",
    "                rota_all = df_rota.shape[0]\n",
    "\n",
    "                for pos in [\"PG\", \"SG\", \"F\", \"C\"]:\n",
    "                    df_pos = df_rota.loc[df_rota[pos] == 1]\n",
    "                    rota_pos = df_pos.shape[0]\n",
    "\n",
    "                    df.loc[\n",
    "                        (df[\"Date\"] == date) & (df[\"Team\"] == team) & (df[pos] == 1),\n",
    "                        \"Rota_All\",\n",
    "                    ] = rota_all\n",
    "                    df.loc[\n",
    "                        (df[\"Date\"] == date) & (df[\"Team\"] == team) & (df[pos] == 1),\n",
    "                        \"Rota_Pos\",\n",
    "                    ] = rota_pos"
   ]
  },
  {
   "cell_type": "code",
   "execution_count": 26,
   "metadata": {
    "ExecuteTime": {
     "end_time": "2019-05-26T07:11:14.219213Z",
     "start_time": "2019-05-26T07:11:14.212928Z"
    }
   },
   "outputs": [],
   "source": [
    "seasons = [\"2014-15\", \"2015-16\", \"2016-17\", \"2017-18\", \"2018-19\"]"
   ]
  },
  {
   "cell_type": "code",
   "execution_count": 28,
   "metadata": {
    "ExecuteTime": {
     "end_time": "2019-05-26T07:28:01.975421Z",
     "start_time": "2019-05-26T07:12:51.553862Z"
    }
   },
   "outputs": [
    {
     "data": {
      "application/vnd.jupyter.widget-view+json": {
       "model_id": "11b80ff874654255ad676e65bb78d37e",
       "version_major": 2,
       "version_minor": 0
      },
      "text/plain": [
       "HBox(children=(IntProgress(value=0, max=5), HTML(value='')))"
      ]
     },
     "metadata": {},
     "output_type": "display_data"
    },
    {
     "data": {
      "application/vnd.jupyter.widget-view+json": {
       "model_id": "eded8caa98714204ad0e29209c693d0a",
       "version_major": 2,
       "version_minor": 0
      },
      "text/plain": [
       "HBox(children=(IntProgress(value=0, max=25332), HTML(value='')))"
      ]
     },
     "metadata": {},
     "output_type": "display_data"
    },
    {
     "data": {
      "application/vnd.jupyter.widget-view+json": {
       "model_id": "1ee90d6e8f2a4ed2ac9d5c522e8e4b61",
       "version_major": 2,
       "version_minor": 0
      },
      "text/plain": [
       "HBox(children=(IntProgress(value=0, max=30595), HTML(value='')))"
      ]
     },
     "metadata": {},
     "output_type": "display_data"
    },
    {
     "data": {
      "application/vnd.jupyter.widget-view+json": {
       "model_id": "56e40ea3b6b84c63bb9f6ab86622cf71",
       "version_major": 2,
       "version_minor": 0
      },
      "text/plain": [
       "HBox(children=(IntProgress(value=0, max=29538), HTML(value='')))"
      ]
     },
     "metadata": {},
     "output_type": "display_data"
    },
    {
     "data": {
      "application/vnd.jupyter.widget-view+json": {
       "model_id": "49a1ca311cf84e71a72d8c6e2b17981d",
       "version_major": 2,
       "version_minor": 0
      },
      "text/plain": [
       "HBox(children=(IntProgress(value=0, max=29271), HTML(value='')))"
      ]
     },
     "metadata": {},
     "output_type": "display_data"
    },
    {
     "data": {
      "application/vnd.jupyter.widget-view+json": {
       "model_id": "1d57d63efcff464b8036d20ea502edc2",
       "version_major": 2,
       "version_minor": 0
      },
      "text/plain": [
       "HBox(children=(IntProgress(value=0, max=28911), HTML(value='')))"
      ]
     },
     "metadata": {},
     "output_type": "display_data"
    },
    {
     "name": "stdout",
     "output_type": "stream",
     "text": [
      "\n"
     ]
    }
   ],
   "source": [
    "# Takes 15-20 mins\n",
    "for season in tqdm(seasons):\n",
    "    df = pd.read_csv(\n",
    "        os.path.join(DATA_DIR, \"Dataframes\", \"Merged\", \"df_{}.csv\".format(season))\n",
    "    )\n",
    "    df_baseline = generate_baseline(df)\n",
    "    df_baseline = df_baseline.loc[\n",
    "        :,\n",
    "        [\n",
    "            \"Date\",\n",
    "            \"Name\",\n",
    "            \"FPTS\",\n",
    "            \"PTS\",\n",
    "            \"3P\",\n",
    "            \"AST\",\n",
    "            \"TRB\",\n",
    "            \"STL\",\n",
    "            \"BLK\",\n",
    "            \"TOV\",\n",
    "            \"DD\",\n",
    "            \"TD\",\n",
    "        ],\n",
    "    ]\n",
    "    df_baseline.to_csv(\n",
    "        os.path.join(\n",
    "            DATA_DIR, \"Dataframes\", \"Modelling\", \"Baseline\", \"{}.csv\".format(season)\n",
    "        ),\n",
    "        index=False,\n",
    "    )"
   ]
  },
  {
   "cell_type": "code",
   "execution_count": 37,
   "metadata": {
    "ExecuteTime": {
     "end_time": "2019-05-26T09:27:59.904540Z",
     "start_time": "2019-05-26T07:40:43.192362Z"
    }
   },
   "outputs": [
    {
     "data": {
      "application/vnd.jupyter.widget-view+json": {
       "model_id": "96d1ee84d9914ca481062847355de493",
       "version_major": 2,
       "version_minor": 0
      },
      "text/plain": [
       "HBox(children=(IntProgress(value=0, max=3), HTML(value='')))"
      ]
     },
     "metadata": {},
     "output_type": "display_data"
    },
    {
     "data": {
      "application/vnd.jupyter.widget-view+json": {
       "model_id": "ec8fdea87a6145cc912edd02c616764e",
       "version_major": 2,
       "version_minor": 0
      },
      "text/plain": [
       "HBox(children=(IntProgress(value=0, max=5), HTML(value='')))"
      ]
     },
     "metadata": {},
     "output_type": "display_data"
    },
    {
     "data": {
      "application/vnd.jupyter.widget-view+json": {
       "model_id": "7cdcd8f3127d4962ba659fc0510037c7",
       "version_major": 2,
       "version_minor": 0
      },
      "text/plain": [
       "HBox(children=(IntProgress(value=0, max=25332), HTML(value='')))"
      ]
     },
     "metadata": {},
     "output_type": "display_data"
    },
    {
     "data": {
      "application/vnd.jupyter.widget-view+json": {
       "model_id": "b0f6d0c9e9ce44029bb18ba91c2562ba",
       "version_major": 2,
       "version_minor": 0
      },
      "text/plain": [
       "HBox(children=(IntProgress(value=0, max=144), HTML(value='')))"
      ]
     },
     "metadata": {},
     "output_type": "display_data"
    },
    {
     "data": {
      "application/vnd.jupyter.widget-view+json": {
       "model_id": "9014cd126b8c47e2924c6f94046afb21",
       "version_major": 2,
       "version_minor": 0
      },
      "text/plain": [
       "HBox(children=(IntProgress(value=0, max=30595), HTML(value='')))"
      ]
     },
     "metadata": {},
     "output_type": "display_data"
    },
    {
     "data": {
      "application/vnd.jupyter.widget-view+json": {
       "model_id": "40bcc8be53e3457eb8566569a6144cea",
       "version_major": 2,
       "version_minor": 0
      },
      "text/plain": [
       "HBox(children=(IntProgress(value=0, max=144), HTML(value='')))"
      ]
     },
     "metadata": {},
     "output_type": "display_data"
    },
    {
     "data": {
      "application/vnd.jupyter.widget-view+json": {
       "model_id": "bc7d89c22d1c422bb36a129d162dbb86",
       "version_major": 2,
       "version_minor": 0
      },
      "text/plain": [
       "HBox(children=(IntProgress(value=0, max=29538), HTML(value='')))"
      ]
     },
     "metadata": {},
     "output_type": "display_data"
    },
    {
     "data": {
      "application/vnd.jupyter.widget-view+json": {
       "model_id": "d969d0e1af524ea8bd834686ad6ee785",
       "version_major": 2,
       "version_minor": 0
      },
      "text/plain": [
       "HBox(children=(IntProgress(value=0, max=145), HTML(value='')))"
      ]
     },
     "metadata": {},
     "output_type": "display_data"
    },
    {
     "data": {
      "application/vnd.jupyter.widget-view+json": {
       "model_id": "729db4793ece4b6980b8abbd333e8b9c",
       "version_major": 2,
       "version_minor": 0
      },
      "text/plain": [
       "HBox(children=(IntProgress(value=0, max=29271), HTML(value='')))"
      ]
     },
     "metadata": {},
     "output_type": "display_data"
    },
    {
     "data": {
      "application/vnd.jupyter.widget-view+json": {
       "model_id": "2e17d7800b764fbc8be0c15404aa4187",
       "version_major": 2,
       "version_minor": 0
      },
      "text/plain": [
       "HBox(children=(IntProgress(value=0, max=150), HTML(value='')))"
      ]
     },
     "metadata": {},
     "output_type": "display_data"
    },
    {
     "data": {
      "application/vnd.jupyter.widget-view+json": {
       "model_id": "63aaee1fb3b54015873c7f3cea545c82",
       "version_major": 2,
       "version_minor": 0
      },
      "text/plain": [
       "HBox(children=(IntProgress(value=0, max=28911), HTML(value='')))"
      ]
     },
     "metadata": {},
     "output_type": "display_data"
    },
    {
     "data": {
      "application/vnd.jupyter.widget-view+json": {
       "model_id": "a909871abb6841a68efa038abd67accc",
       "version_major": 2,
       "version_minor": 0
      },
      "text/plain": [
       "HBox(children=(IntProgress(value=0, max=149), HTML(value='')))"
      ]
     },
     "metadata": {},
     "output_type": "display_data"
    },
    {
     "data": {
      "application/vnd.jupyter.widget-view+json": {
       "model_id": "f1cd13573b7242829f59526dfc67f52c",
       "version_major": 2,
       "version_minor": 0
      },
      "text/plain": [
       "HBox(children=(IntProgress(value=0, max=5), HTML(value='')))"
      ]
     },
     "metadata": {},
     "output_type": "display_data"
    },
    {
     "data": {
      "application/vnd.jupyter.widget-view+json": {
       "model_id": "40216abadf3d4708a91c34197132d5cc",
       "version_major": 2,
       "version_minor": 0
      },
      "text/plain": [
       "HBox(children=(IntProgress(value=0, max=25332), HTML(value='')))"
      ]
     },
     "metadata": {},
     "output_type": "display_data"
    },
    {
     "data": {
      "application/vnd.jupyter.widget-view+json": {
       "model_id": "5605b7c06e614edb9d9baeab52a23295",
       "version_major": 2,
       "version_minor": 0
      },
      "text/plain": [
       "HBox(children=(IntProgress(value=0, max=144), HTML(value='')))"
      ]
     },
     "metadata": {},
     "output_type": "display_data"
    },
    {
     "data": {
      "application/vnd.jupyter.widget-view+json": {
       "model_id": "119ad940992843438f45d42b016fdeda",
       "version_major": 2,
       "version_minor": 0
      },
      "text/plain": [
       "HBox(children=(IntProgress(value=0, max=30595), HTML(value='')))"
      ]
     },
     "metadata": {},
     "output_type": "display_data"
    },
    {
     "data": {
      "application/vnd.jupyter.widget-view+json": {
       "model_id": "191cd56b2cd44460ac7bd4159a323ec8",
       "version_major": 2,
       "version_minor": 0
      },
      "text/plain": [
       "HBox(children=(IntProgress(value=0, max=144), HTML(value='')))"
      ]
     },
     "metadata": {},
     "output_type": "display_data"
    },
    {
     "data": {
      "application/vnd.jupyter.widget-view+json": {
       "model_id": "aea1ca7da80f4ee48558f2060e7e4988",
       "version_major": 2,
       "version_minor": 0
      },
      "text/plain": [
       "HBox(children=(IntProgress(value=0, max=29538), HTML(value='')))"
      ]
     },
     "metadata": {},
     "output_type": "display_data"
    },
    {
     "data": {
      "application/vnd.jupyter.widget-view+json": {
       "model_id": "afaf581cf5084a598a15e450d8ff735b",
       "version_major": 2,
       "version_minor": 0
      },
      "text/plain": [
       "HBox(children=(IntProgress(value=0, max=145), HTML(value='')))"
      ]
     },
     "metadata": {},
     "output_type": "display_data"
    },
    {
     "data": {
      "application/vnd.jupyter.widget-view+json": {
       "model_id": "489e910db39145a4b1c4c826e1f396cd",
       "version_major": 2,
       "version_minor": 0
      },
      "text/plain": [
       "HBox(children=(IntProgress(value=0, max=29271), HTML(value='')))"
      ]
     },
     "metadata": {},
     "output_type": "display_data"
    },
    {
     "data": {
      "application/vnd.jupyter.widget-view+json": {
       "model_id": "933957f3a1bf4a1bbab00a5e2360f90e",
       "version_major": 2,
       "version_minor": 0
      },
      "text/plain": [
       "HBox(children=(IntProgress(value=0, max=150), HTML(value='')))"
      ]
     },
     "metadata": {},
     "output_type": "display_data"
    },
    {
     "data": {
      "application/vnd.jupyter.widget-view+json": {
       "model_id": "39e7509c4fb747f4a8f2acdfb99bad5d",
       "version_major": 2,
       "version_minor": 0
      },
      "text/plain": [
       "HBox(children=(IntProgress(value=0, max=28911), HTML(value='')))"
      ]
     },
     "metadata": {},
     "output_type": "display_data"
    },
    {
     "data": {
      "application/vnd.jupyter.widget-view+json": {
       "model_id": "38716f245ed4416b9c7cde19c6dedafa",
       "version_major": 2,
       "version_minor": 0
      },
      "text/plain": [
       "HBox(children=(IntProgress(value=0, max=149), HTML(value='')))"
      ]
     },
     "metadata": {},
     "output_type": "display_data"
    },
    {
     "data": {
      "application/vnd.jupyter.widget-view+json": {
       "model_id": "bcdbb9c8abb04dd9b3eec3b82ee0de20",
       "version_major": 2,
       "version_minor": 0
      },
      "text/plain": [
       "HBox(children=(IntProgress(value=0, max=5), HTML(value='')))"
      ]
     },
     "metadata": {},
     "output_type": "display_data"
    },
    {
     "data": {
      "application/vnd.jupyter.widget-view+json": {
       "model_id": "da99bc1c4ee949eabb33ea4015e4e48c",
       "version_major": 2,
       "version_minor": 0
      },
      "text/plain": [
       "HBox(children=(IntProgress(value=0, max=25332), HTML(value='')))"
      ]
     },
     "metadata": {},
     "output_type": "display_data"
    },
    {
     "data": {
      "application/vnd.jupyter.widget-view+json": {
       "model_id": "17fb1317235e40e9928a0414657e8f21",
       "version_major": 2,
       "version_minor": 0
      },
      "text/plain": [
       "HBox(children=(IntProgress(value=0, max=144), HTML(value='')))"
      ]
     },
     "metadata": {},
     "output_type": "display_data"
    },
    {
     "data": {
      "application/vnd.jupyter.widget-view+json": {
       "model_id": "5cbde29d1d294ff08a1cd143bf7ec25d",
       "version_major": 2,
       "version_minor": 0
      },
      "text/plain": [
       "HBox(children=(IntProgress(value=0, max=30595), HTML(value='')))"
      ]
     },
     "metadata": {},
     "output_type": "display_data"
    },
    {
     "data": {
      "application/vnd.jupyter.widget-view+json": {
       "model_id": "cccbe81e819747ab8d775dab21f6ade4",
       "version_major": 2,
       "version_minor": 0
      },
      "text/plain": [
       "HBox(children=(IntProgress(value=0, max=144), HTML(value='')))"
      ]
     },
     "metadata": {},
     "output_type": "display_data"
    },
    {
     "data": {
      "application/vnd.jupyter.widget-view+json": {
       "model_id": "9eb972338c5545d082a01161197e66bc",
       "version_major": 2,
       "version_minor": 0
      },
      "text/plain": [
       "HBox(children=(IntProgress(value=0, max=29538), HTML(value='')))"
      ]
     },
     "metadata": {},
     "output_type": "display_data"
    },
    {
     "data": {
      "application/vnd.jupyter.widget-view+json": {
       "model_id": "a0d9f79b8acb4a429363328bb8e1f3d8",
       "version_major": 2,
       "version_minor": 0
      },
      "text/plain": [
       "HBox(children=(IntProgress(value=0, max=145), HTML(value='')))"
      ]
     },
     "metadata": {},
     "output_type": "display_data"
    },
    {
     "data": {
      "application/vnd.jupyter.widget-view+json": {
       "model_id": "c255749abbaf4756b49f9ae22443bcae",
       "version_major": 2,
       "version_minor": 0
      },
      "text/plain": [
       "HBox(children=(IntProgress(value=0, max=29271), HTML(value='')))"
      ]
     },
     "metadata": {},
     "output_type": "display_data"
    },
    {
     "data": {
      "application/vnd.jupyter.widget-view+json": {
       "model_id": "3ef46b6fd4e04ddd964c61536b3b8824",
       "version_major": 2,
       "version_minor": 0
      },
      "text/plain": [
       "HBox(children=(IntProgress(value=0, max=150), HTML(value='')))"
      ]
     },
     "metadata": {},
     "output_type": "display_data"
    },
    {
     "data": {
      "application/vnd.jupyter.widget-view+json": {
       "model_id": "3a0e0bf524d640a59549873aef616ee9",
       "version_major": 2,
       "version_minor": 0
      },
      "text/plain": [
       "HBox(children=(IntProgress(value=0, max=28911), HTML(value='')))"
      ]
     },
     "metadata": {},
     "output_type": "display_data"
    },
    {
     "data": {
      "application/vnd.jupyter.widget-view+json": {
       "model_id": "f64b284663164ae48a14cb5e07003a1f",
       "version_major": 2,
       "version_minor": 0
      },
      "text/plain": [
       "HBox(children=(IntProgress(value=0, max=149), HTML(value='')))"
      ]
     },
     "metadata": {},
     "output_type": "display_data"
    }
   ],
   "source": [
    "weighting_types = [\"sqrt\", \"linear\", \"quad\"]\n",
    "\n",
    "# Takes ~ 2 hrs in total\n",
    "# TODO: Optimize\n",
    "for weighting in tqdm(weighting_types):\n",
    "    for season in tqdm(seasons):\n",
    "        df = pd.read_csv(\n",
    "            os.path.join(DATA_DIR, \"Dataframes\", \"Merged\", \"df_{}.csv\".format(season))\n",
    "        )\n",
    "        df_features = generate_features(df, weighting)\n",
    "        # Add Starter, Listed Position and Team\n",
    "        df_features = pd.merge(\n",
    "            df.loc[\n",
    "                :,\n",
    "                [\n",
    "                    \"Date\",\n",
    "                    \"Name\",\n",
    "                    \"Salary\",\n",
    "                    \"Team\",\n",
    "                    \"Starter\",\n",
    "                    \"Home\",\n",
    "                    \"Pos\",\n",
    "                    \"PG\",\n",
    "                    \"SG\",\n",
    "                    \"F\",\n",
    "                    \"C\",\n",
    "                ],\n",
    "            ],\n",
    "            df_features,\n",
    "            on=[\"Date\", \"Name\"],\n",
    "            how=\"inner\",\n",
    "        )\n",
    "        # Add roster information\n",
    "        add_roster_info(df_features)\n",
    "        df_features = df_features.loc[:, DF_FEATURES]\n",
    "        df_features.to_csv(\n",
    "            os.path.join(\n",
    "                DATA_DIR,\n",
    "                \"Dataframes\",\n",
    "                \"Modelling\",\n",
    "                \"Features\",\n",
    "                weighting,\n",
    "                \"{}.csv\".format(season),\n",
    "            ),\n",
    "            index=False,\n",
    "        )"
   ]
  }
 ],
 "metadata": {
  "kernelspec": {
   "display_name": "Python 3",
   "language": "python",
   "name": "python3"
  },
  "language_info": {
   "codemirror_mode": {
    "name": "ipython",
    "version": 3
   },
   "file_extension": ".py",
   "mimetype": "text/x-python",
   "name": "python",
   "nbconvert_exporter": "python",
   "pygments_lexer": "ipython3",
   "version": "3.7.1"
  },
  "varInspector": {
   "cols": {
    "lenName": 16,
    "lenType": 16,
    "lenVar": 40
   },
   "kernels_config": {
    "python": {
     "delete_cmd_postfix": "",
     "delete_cmd_prefix": "del ",
     "library": "var_list.py",
     "varRefreshCmd": "print(var_dic_list())"
    },
    "r": {
     "delete_cmd_postfix": ") ",
     "delete_cmd_prefix": "rm(",
     "library": "var_list.r",
     "varRefreshCmd": "cat(var_dic_list()) "
    }
   },
   "types_to_exclude": [
    "module",
    "function",
    "builtin_function_or_method",
    "instance",
    "_Feature"
   ],
   "window_display": false
  }
 },
 "nbformat": 4,
 "nbformat_minor": 2
}
