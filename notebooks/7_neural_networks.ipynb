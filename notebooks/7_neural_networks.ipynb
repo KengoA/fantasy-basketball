{
 "cells": [
  {
   "cell_type": "markdown",
   "metadata": {
    "ExecuteTime": {
     "end_time": "2018-05-20T12:28:32.643440Z",
     "start_time": "2018-05-20T12:28:32.606527Z"
    }
   },
   "source": [
    "### Neural Networks"
   ]
  },
  {
   "cell_type": "code",
   "execution_count": 6,
   "metadata": {
    "ExecuteTime": {
     "end_time": "2019-06-28T22:46:09.054032Z",
     "start_time": "2019-06-28T22:46:09.048101Z"
    }
   },
   "outputs": [],
   "source": [
    "import os\n",
    "import glob\n",
    "import warnings\n",
    "import numpy as np\n",
    "import pandas as pd\n",
    "import matplotlib.pyplot as plt\n",
    "\n",
    "from tqdm import tqdm_notebook as tqdm\n",
    "from sklearn.preprocessing import MinMaxScaler\n",
    "from tensorflow import set_random_seed\n",
    "\n",
    "from keras import backend as K\n",
    "from keras.models import Sequential\n",
    "from keras.layers import Dense, Dropout\n",
    "from keras.wrappers.scikit_learn import KerasRegressor\n",
    "from keras.callbacks import ModelCheckpoint\n",
    "\n",
    "import utils\n",
    "from constants import DATA_DIR"
   ]
  },
  {
   "cell_type": "code",
   "execution_count": 7,
   "metadata": {
    "ExecuteTime": {
     "end_time": "2019-06-28T22:46:09.707601Z",
     "start_time": "2019-06-28T22:46:09.695879Z"
    }
   },
   "outputs": [],
   "source": [
    "np.random.seed(23)\n",
    "set_random_seed(23)\n",
    "\n",
    "warnings.filterwarnings(\"ignore\")"
   ]
  },
  {
   "cell_type": "code",
   "execution_count": 8,
   "metadata": {
    "ExecuteTime": {
     "end_time": "2019-06-28T22:46:10.330037Z",
     "start_time": "2019-06-28T22:46:10.305936Z"
    }
   },
   "outputs": [],
   "source": [
    "def root_mean_squared_error(y_true, y_pred):\n",
    "    # Custom loss function for keras\n",
    "    return K.sqrt(K.mean(K.square(y_pred - y_true)))\n",
    "\n",
    "\n",
    "def get_modelcheckpoint_path(model_num):\n",
    "    # Create a file path for a model and save models in hdf5 files with datetime, validation losses and epochs\n",
    "    parent = DATA_DIR + \"/Models/NN/Model_{}/\".format(model_num)\n",
    "    child = (\n",
    "        pd.Timestamp.now().strftime(\"%Y%m%d-%Hh%Mm\")\n",
    "        + \"-model-epoch_{epoch:02d}-rmse_{val_loss:.5f}.hdf5\"\n",
    "    )\n",
    "    return parent + child\n",
    "\n",
    "\n",
    "def get_weights_path_and_epoch(model_num):\n",
    "    filepaths = glob.glob(\n",
    "        DATA_DIR + \"/Models/NN/Model_{}/*.hdf5\".format(str(model_num))\n",
    "    )\n",
    "    losses = [float(filepath[-12:-5]) for filepath in filepaths]\n",
    "    epochs = losses.index(min(losses))\n",
    "    print(\n",
    "        \"Model {} | Lowest Valid Error: {} at Epoch {}\".format(\n",
    "            model_num, min(losses), epochs\n",
    "        )\n",
    "    )\n",
    "    return (filepaths[losses.index(min(losses))], epochs)\n",
    "\n",
    "\n",
    "def plot_learning_process(hist_list):\n",
    "    for i, hist in enumerate(hist_list):\n",
    "        plt.subplot(1, 1, 1)\n",
    "        plt.plot(hist.history[\"loss\"])\n",
    "        plt.plot(hist.history[\"val_loss\"])\n",
    "        plt.title(\"Model Loss\")\n",
    "        plt.ylabel(\"Loss\")\n",
    "        plt.xlabel(\"Epoch\")\n",
    "        plt.legend([\"Train\", \"Validation\"], loc=\"upper right\")\n",
    "        plt.show()\n",
    "    return None\n",
    "\n",
    "\n",
    "def run_models():\n",
    "    for i in range(1, 4):\n",
    "        print(create_model(i)().summary())\n",
    "        model = KerasRegressor(\n",
    "            build_fn=create_model(i),\n",
    "            epochs=100,\n",
    "            batch_size=32,\n",
    "            validation_split=0.2,\n",
    "            shuffle=True,\n",
    "            verbose=1,\n",
    "        )\n",
    "\n",
    "        filepath = get_modelcheckpoint_path(i)\n",
    "        checkpoint = ModelCheckpoint(\n",
    "            filepath, monitor=\"val_loss\", save_best_only=True, verbose=0, mode=\"min\"\n",
    "        )\n",
    "        callbacks_list = [checkpoint]\n",
    "\n",
    "        if i == 1:\n",
    "            h1 = model.fit(X, y, callbacks=callbacks_list)\n",
    "        elif i == 2:\n",
    "            h2 = model.fit(X, y, callbacks=callbacks_list)\n",
    "        elif i == 3:\n",
    "            h3 = model.fit(X, y, callbacks=callbacks_list)\n",
    "\n",
    "    return [h1, h2, h3]\n",
    "\n",
    "\n",
    "def create_model(model_num):\n",
    "    def model_1():\n",
    "        model = Sequential()\n",
    "        model.add(Dense(X.shape[1], input_dim=X.shape[1], activation=\"relu\"))\n",
    "        model.add(Dense(64, activation=\"relu\"))\n",
    "        model.add(Dense(32, activation=\"relu\"))\n",
    "        model.add(Dense(1))\n",
    "        model.compile(loss=root_mean_squared_error, optimizer=\"adam\")\n",
    "        return model\n",
    "\n",
    "    def model_2():\n",
    "        model = Sequential()\n",
    "        model.add(Dense(X.shape[1], input_dim=X.shape[1], activation=\"relu\"))\n",
    "        model.add(Dense(64, activation=\"relu\"))\n",
    "        model.add(Dense(128, activation=\"relu\"))\n",
    "        model.add(Dense(32, activation=\"relu\"))\n",
    "        model.add(Dropout(0.2))\n",
    "        model.add(Dense(1))\n",
    "        model.compile(loss=root_mean_squared_error, optimizer=\"adam\")\n",
    "        return model\n",
    "\n",
    "    def model_3():\n",
    "        model = Sequential()\n",
    "        model.add(Dense(X.shape[1], input_dim=X.shape[1], activation=\"relu\"))\n",
    "        model.add(Dense(128, activation=\"relu\"))\n",
    "        model.add(Dense(256, activation=\"relu\"))\n",
    "        model.add(Dense(64, activation=\"relu\"))\n",
    "        model.add(Dropout(0.2))\n",
    "        model.add(Dense(1))\n",
    "        model.compile(loss=root_mean_squared_error, optimizer=\"adam\")\n",
    "        return model\n",
    "\n",
    "    if model_num == 1:\n",
    "        return model_1\n",
    "    elif model_num == 2:\n",
    "        return model_2\n",
    "    elif model_num == 3:\n",
    "        return model_3\n",
    "    else:\n",
    "        return \"invalid model_num\""
   ]
  },
  {
   "cell_type": "code",
   "execution_count": 9,
   "metadata": {
    "ExecuteTime": {
     "end_time": "2019-06-28T22:46:13.500083Z",
     "start_time": "2019-06-28T22:46:11.225860Z"
    }
   },
   "outputs": [],
   "source": [
    "X, y = utils.load_full_dataset(\"quad\")"
   ]
  },
  {
   "cell_type": "code",
   "execution_count": 11,
   "metadata": {
    "ExecuteTime": {
     "end_time": "2019-06-28T22:46:28.205365Z",
     "start_time": "2019-06-28T22:46:28.201772Z"
    },
    "scrolled": true
   },
   "outputs": [],
   "source": [
    "# Takes about ~ 30 mins for training 100 epochs for all models\n",
    "hist_list = run_models()"
   ]
  },
  {
   "cell_type": "code",
   "execution_count": 30,
   "metadata": {
    "ExecuteTime": {
     "end_time": "2019-05-29T16:55:52.344495Z",
     "start_time": "2019-05-29T16:55:51.714626Z"
    }
   },
   "outputs": [
    {
     "data": {
      "image/png": "[encoded data removed]",
      "text/plain": [
       "<Figure size 432x288 with 1 Axes>"
      ]
     },
     "metadata": {
      "needs_background": "light"
     },
     "output_type": "display_data"
    },
    {
     "data": {
      "image/png": "[encoded data removed]",
      "text/plain": [
       "<Figure size 432x288 with 1 Axes>"
      ]
     },
     "metadata": {
      "needs_background": "light"
     },
     "output_type": "display_data"
    },
    {
     "data": {
      "image/png": "[encoded data removed]",
      "text/plain": [
       "<Figure size 432x288 with 1 Axes>"
      ]
     },
     "metadata": {
      "needs_background": "light"
     },
     "output_type": "display_data"
    }
   ],
   "source": [
    "# The models seem to overfit at an early stage for all models\n",
    "plot_learning_process(hist_list)"
   ]
  },
  {
   "cell_type": "code",
   "execution_count": 28,
   "metadata": {
    "ExecuteTime": {
     "end_time": "2019-05-29T11:39:45.668288Z",
     "start_time": "2019-05-29T11:32:19.437421Z"
    }
   },
   "outputs": [
    {
     "name": "stdout",
     "output_type": "stream",
     "text": [
      "Model 1 | Lowest Valid Error: 9.06407 at Epoch 4\n"
     ]
    },
    {
     "data": {
      "application/vnd.jupyter.widget-view+json": {
       "model_id": "85719207a527436f95a975bd5770235d",
       "version_major": 2,
       "version_minor": 0
      },
      "text/plain": [
       "HBox(children=(IntProgress(value=0, max=5), HTML(value='')))"
      ]
     },
     "metadata": {},
     "output_type": "display_data"
    },
    {
     "data": {
      "text/html": [
       "<div>\n",
       "<style scoped>\n",
       "    .dataframe tbody tr th:only-of-type {\n",
       "        vertical-align: middle;\n",
       "    }\n",
       "\n",
       "    .dataframe tbody tr th {\n",
       "        vertical-align: top;\n",
       "    }\n",
       "\n",
       "    .dataframe thead th {\n",
       "        text-align: right;\n",
       "    }\n",
       "</style>\n",
       "<table border=\"1\" class=\"dataframe\">\n",
       "  <thead>\n",
       "    <tr style=\"text-align: right;\">\n",
       "      <th></th>\n",
       "      <th></th>\n",
       "      <th></th>\n",
       "      <th></th>\n",
       "      <th></th>\n",
       "      <th></th>\n",
       "    </tr>\n",
       "    <tr>\n",
       "      <th>MAE</th>\n",
       "      <th></th>\n",
       "      <th></th>\n",
       "      <th></th>\n",
       "      <th></th>\n",
       "      <th></th>\n",
       "    </tr>\n",
       "  </thead>\n",
       "  <tbody>\n",
       "    <tr>\n",
       "      <th>train</th>\n",
       "      <td>7.104619</td>\n",
       "      <td>7.093637</td>\n",
       "      <td>7.081982</td>\n",
       "      <td>6.987312</td>\n",
       "      <td>7.041672</td>\n",
       "    </tr>\n",
       "    <tr>\n",
       "      <th>valid</th>\n",
       "      <td>7.157601</td>\n",
       "      <td>7.155964</td>\n",
       "      <td>7.048330</td>\n",
       "      <td>6.970658</td>\n",
       "      <td>7.026474</td>\n",
       "    </tr>\n",
       "  </tbody>\n",
       "</table>\n",
       "</div>"
      ],
      "text/plain": [
       "                                                       \n",
       "MAE                                                    \n",
       "train  7.104619  7.093637  7.081982  6.987312  7.041672\n",
       "valid  7.157601  7.155964  7.048330  6.970658  7.026474"
      ]
     },
     "metadata": {},
     "output_type": "display_data"
    },
    {
     "data": {
      "text/html": [
       "<div>\n",
       "<style scoped>\n",
       "    .dataframe tbody tr th:only-of-type {\n",
       "        vertical-align: middle;\n",
       "    }\n",
       "\n",
       "    .dataframe tbody tr th {\n",
       "        vertical-align: top;\n",
       "    }\n",
       "\n",
       "    .dataframe thead th {\n",
       "        text-align: right;\n",
       "    }\n",
       "</style>\n",
       "<table border=\"1\" class=\"dataframe\">\n",
       "  <thead>\n",
       "    <tr style=\"text-align: right;\">\n",
       "      <th></th>\n",
       "      <th></th>\n",
       "      <th></th>\n",
       "      <th></th>\n",
       "      <th></th>\n",
       "      <th></th>\n",
       "    </tr>\n",
       "    <tr>\n",
       "      <th>RMSE</th>\n",
       "      <th></th>\n",
       "      <th></th>\n",
       "      <th></th>\n",
       "      <th></th>\n",
       "      <th></th>\n",
       "    </tr>\n",
       "  </thead>\n",
       "  <tbody>\n",
       "    <tr>\n",
       "      <th>train</th>\n",
       "      <td>9.200789</td>\n",
       "      <td>9.180906</td>\n",
       "      <td>9.312114</td>\n",
       "      <td>9.164618</td>\n",
       "      <td>9.156726</td>\n",
       "    </tr>\n",
       "    <tr>\n",
       "      <th>valid</th>\n",
       "      <td>9.259978</td>\n",
       "      <td>9.276065</td>\n",
       "      <td>9.303126</td>\n",
       "      <td>9.119281</td>\n",
       "      <td>9.132811</td>\n",
       "    </tr>\n",
       "  </tbody>\n",
       "</table>\n",
       "</div>"
      ],
      "text/plain": [
       "                                                       \n",
       "RMSE                                                   \n",
       "train  9.200789  9.180906  9.312114  9.164618  9.156726\n",
       "valid  9.259978  9.276065  9.303126  9.119281  9.132811"
      ]
     },
     "metadata": {},
     "output_type": "display_data"
    },
    {
     "name": "stdout",
     "output_type": "stream",
     "text": [
      "\n",
      "   <--- Validation Errors --->\n",
      "MAE  | Mean: 7.07181, SD: 0.07387\n",
      "RMSE | Mean: 9.21825, SD: 0.07666\n",
      "\n",
      "Model 2 | Lowest Valid Error: 9.08894 at Epoch 6\n"
     ]
    },
    {
     "data": {
      "application/vnd.jupyter.widget-view+json": {
       "model_id": "e21b160520594ce893c734387328ded7",
       "version_major": 2,
       "version_minor": 0
      },
      "text/plain": [
       "HBox(children=(IntProgress(value=0, max=5), HTML(value='')))"
      ]
     },
     "metadata": {},
     "output_type": "display_data"
    },
    {
     "data": {
      "text/html": [
       "<div>\n",
       "<style scoped>\n",
       "    .dataframe tbody tr th:only-of-type {\n",
       "        vertical-align: middle;\n",
       "    }\n",
       "\n",
       "    .dataframe tbody tr th {\n",
       "        vertical-align: top;\n",
       "    }\n",
       "\n",
       "    .dataframe thead th {\n",
       "        text-align: right;\n",
       "    }\n",
       "</style>\n",
       "<table border=\"1\" class=\"dataframe\">\n",
       "  <thead>\n",
       "    <tr style=\"text-align: right;\">\n",
       "      <th></th>\n",
       "      <th></th>\n",
       "      <th></th>\n",
       "      <th></th>\n",
       "      <th></th>\n",
       "      <th></th>\n",
       "    </tr>\n",
       "    <tr>\n",
       "      <th>MAE</th>\n",
       "      <th></th>\n",
       "      <th></th>\n",
       "      <th></th>\n",
       "      <th></th>\n",
       "      <th></th>\n",
       "    </tr>\n",
       "  </thead>\n",
       "  <tbody>\n",
       "    <tr>\n",
       "      <th>train</th>\n",
       "      <td>6.974793</td>\n",
       "      <td>7.075141</td>\n",
       "      <td>7.240280</td>\n",
       "      <td>7.003266</td>\n",
       "      <td>7.018079</td>\n",
       "    </tr>\n",
       "    <tr>\n",
       "      <th>valid</th>\n",
       "      <td>7.048455</td>\n",
       "      <td>7.134515</td>\n",
       "      <td>7.225957</td>\n",
       "      <td>6.992152</td>\n",
       "      <td>6.990194</td>\n",
       "    </tr>\n",
       "  </tbody>\n",
       "</table>\n",
       "</div>"
      ],
      "text/plain": [
       "                                                       \n",
       "MAE                                                    \n",
       "train  6.974793  7.075141  7.240280  7.003266  7.018079\n",
       "valid  7.048455  7.134515  7.225957  6.992152  6.990194"
      ]
     },
     "metadata": {},
     "output_type": "display_data"
    },
    {
     "data": {
      "text/html": [
       "<div>\n",
       "<style scoped>\n",
       "    .dataframe tbody tr th:only-of-type {\n",
       "        vertical-align: middle;\n",
       "    }\n",
       "\n",
       "    .dataframe tbody tr th {\n",
       "        vertical-align: top;\n",
       "    }\n",
       "\n",
       "    .dataframe thead th {\n",
       "        text-align: right;\n",
       "    }\n",
       "</style>\n",
       "<table border=\"1\" class=\"dataframe\">\n",
       "  <thead>\n",
       "    <tr style=\"text-align: right;\">\n",
       "      <th></th>\n",
       "      <th></th>\n",
       "      <th></th>\n",
       "      <th></th>\n",
       "      <th></th>\n",
       "      <th></th>\n",
       "    </tr>\n",
       "    <tr>\n",
       "      <th>RMSE</th>\n",
       "      <th></th>\n",
       "      <th></th>\n",
       "      <th></th>\n",
       "      <th></th>\n",
       "      <th></th>\n",
       "    </tr>\n",
       "  </thead>\n",
       "  <tbody>\n",
       "    <tr>\n",
       "      <th>train</th>\n",
       "      <td>9.154584</td>\n",
       "      <td>9.191060</td>\n",
       "      <td>9.324433</td>\n",
       "      <td>9.267034</td>\n",
       "      <td>9.259054</td>\n",
       "    </tr>\n",
       "    <tr>\n",
       "      <th>valid</th>\n",
       "      <td>9.237600</td>\n",
       "      <td>9.287955</td>\n",
       "      <td>9.316102</td>\n",
       "      <td>9.222004</td>\n",
       "      <td>9.234972</td>\n",
       "    </tr>\n",
       "  </tbody>\n",
       "</table>\n",
       "</div>"
      ],
      "text/plain": [
       "                                                       \n",
       "RMSE                                                   \n",
       "train  9.154584  9.191060  9.324433  9.267034  9.259054\n",
       "valid  9.237600  9.287955  9.316102  9.222004  9.234972"
      ]
     },
     "metadata": {},
     "output_type": "display_data"
    },
    {
     "name": "stdout",
     "output_type": "stream",
     "text": [
      "\n",
      "   <--- Validation Errors --->\n",
      "MAE  | Mean: 7.07825, SD: 0.0906\n",
      "RMSE | Mean: 9.25973, SD: 0.03606\n",
      "\n",
      "Model 3 | Lowest Valid Error: 9.06403 at Epoch 7\n"
     ]
    },
    {
     "data": {
      "application/vnd.jupyter.widget-view+json": {
       "model_id": "fcc4ae7eae15461f9c4d58d823f831f1",
       "version_major": 2,
       "version_minor": 0
      },
      "text/plain": [
       "HBox(children=(IntProgress(value=0, max=5), HTML(value='')))"
      ]
     },
     "metadata": {},
     "output_type": "display_data"
    },
    {
     "data": {
      "text/html": [
       "<div>\n",
       "<style scoped>\n",
       "    .dataframe tbody tr th:only-of-type {\n",
       "        vertical-align: middle;\n",
       "    }\n",
       "\n",
       "    .dataframe tbody tr th {\n",
       "        vertical-align: top;\n",
       "    }\n",
       "\n",
       "    .dataframe thead th {\n",
       "        text-align: right;\n",
       "    }\n",
       "</style>\n",
       "<table border=\"1\" class=\"dataframe\">\n",
       "  <thead>\n",
       "    <tr style=\"text-align: right;\">\n",
       "      <th></th>\n",
       "      <th></th>\n",
       "      <th></th>\n",
       "      <th></th>\n",
       "      <th></th>\n",
       "      <th></th>\n",
       "    </tr>\n",
       "    <tr>\n",
       "      <th>MAE</th>\n",
       "      <th></th>\n",
       "      <th></th>\n",
       "      <th></th>\n",
       "      <th></th>\n",
       "      <th></th>\n",
       "    </tr>\n",
       "  </thead>\n",
       "  <tbody>\n",
       "    <tr>\n",
       "      <th>train</th>\n",
       "      <td>6.937657</td>\n",
       "      <td>6.953649</td>\n",
       "      <td>7.044424</td>\n",
       "      <td>7.104365</td>\n",
       "      <td>7.236153</td>\n",
       "    </tr>\n",
       "    <tr>\n",
       "      <th>valid</th>\n",
       "      <td>6.999789</td>\n",
       "      <td>7.014042</td>\n",
       "      <td>7.038410</td>\n",
       "      <td>7.108518</td>\n",
       "      <td>7.247965</td>\n",
       "    </tr>\n",
       "  </tbody>\n",
       "</table>\n",
       "</div>"
      ],
      "text/plain": [
       "                                                       \n",
       "MAE                                                    \n",
       "train  6.937657  6.953649  7.044424  7.104365  7.236153\n",
       "valid  6.999789  7.014042  7.038410  7.108518  7.247965"
      ]
     },
     "metadata": {},
     "output_type": "display_data"
    },
    {
     "data": {
      "text/html": [
       "<div>\n",
       "<style scoped>\n",
       "    .dataframe tbody tr th:only-of-type {\n",
       "        vertical-align: middle;\n",
       "    }\n",
       "\n",
       "    .dataframe tbody tr th {\n",
       "        vertical-align: top;\n",
       "    }\n",
       "\n",
       "    .dataframe thead th {\n",
       "        text-align: right;\n",
       "    }\n",
       "</style>\n",
       "<table border=\"1\" class=\"dataframe\">\n",
       "  <thead>\n",
       "    <tr style=\"text-align: right;\">\n",
       "      <th></th>\n",
       "      <th></th>\n",
       "      <th></th>\n",
       "      <th></th>\n",
       "      <th></th>\n",
       "      <th></th>\n",
       "    </tr>\n",
       "    <tr>\n",
       "      <th>RMSE</th>\n",
       "      <th></th>\n",
       "      <th></th>\n",
       "      <th></th>\n",
       "      <th></th>\n",
       "      <th></th>\n",
       "    </tr>\n",
       "  </thead>\n",
       "  <tbody>\n",
       "    <tr>\n",
       "      <th>train</th>\n",
       "      <td>9.115793</td>\n",
       "      <td>9.087052</td>\n",
       "      <td>9.153248</td>\n",
       "      <td>9.234147</td>\n",
       "      <td>9.343228</td>\n",
       "    </tr>\n",
       "    <tr>\n",
       "      <th>valid</th>\n",
       "      <td>9.192974</td>\n",
       "      <td>9.185803</td>\n",
       "      <td>9.168075</td>\n",
       "      <td>9.221036</td>\n",
       "      <td>9.335152</td>\n",
       "    </tr>\n",
       "  </tbody>\n",
       "</table>\n",
       "</div>"
      ],
      "text/plain": [
       "                                                       \n",
       "RMSE                                                   \n",
       "train  9.115793  9.087052  9.153248  9.234147  9.343228\n",
       "valid  9.192974  9.185803  9.168075  9.221036  9.335152"
      ]
     },
     "metadata": {},
     "output_type": "display_data"
    },
    {
     "name": "stdout",
     "output_type": "stream",
     "text": [
      "\n",
      "   <--- Validation Errors --->\n",
      "MAE  | Mean: 7.08174, SD: 0.09113\n",
      "RMSE | Mean: 9.22061, SD: 0.05976\n",
      "\n"
     ]
    }
   ],
   "source": [
    "for i in range(1, 4):\n",
    "    weights_path, epochs = get_weights_path_and_epoch(i)\n",
    "    model = KerasRegressor(\n",
    "        build_fn=create_model(i),\n",
    "        epochs=epochs,\n",
    "        batch_size=32,\n",
    "        validation_split=0.2,\n",
    "        shuffle=True,\n",
    "        verbose=0,\n",
    "    )\n",
    "\n",
    "    errors = utils.cross_val(model, X, y, n_folds=5)\n",
    "    utils.summarize_errors(errors, verbose=1)"
   ]
  },
  {
   "cell_type": "markdown",
   "metadata": {
    "ExecuteTime": {
     "end_time": "2019-05-29T16:55:22.726002Z",
     "start_time": "2019-05-29T16:55:22.721544Z"
    }
   },
   "source": [
    "### Neural Networks (Model 1) trained to Epoch 28\n",
    " - MAE  | Mean: 7.07181, SD: 0.07387\n",
    " - RMSE | Mean: 9.21825, SD: 0.07666"
   ]
  }
 ],
 "metadata": {
  "kernelspec": {
   "display_name": "Python 3",
   "language": "python",
   "name": "python3"
  },
  "language_info": {
   "codemirror_mode": {
    "name": "ipython",
    "version": 3
   },
   "file_extension": ".py",
   "mimetype": "text/x-python",
   "name": "python",
   "nbconvert_exporter": "python",
   "pygments_lexer": "ipython3",
   "version": "3.7.1"
  },
  "varInspector": {
   "cols": {
    "lenName": 16,
    "lenType": 16,
    "lenVar": 40
   },
   "kernels_config": {
    "python": {
     "delete_cmd_postfix": "",
     "delete_cmd_prefix": "del ",
     "library": "var_list.py",
     "varRefreshCmd": "print(var_dic_list())"
    },
    "r": {
     "delete_cmd_postfix": ") ",
     "delete_cmd_prefix": "rm(",
     "library": "var_list.r",
     "varRefreshCmd": "cat(var_dic_list()) "
    }
   },
   "types_to_exclude": [
    "module",
    "function",
    "builtin_function_or_method",
    "instance",
    "_Feature"
   ],
   "window_display": false
  }
 },
 "nbformat": 4,
 "nbformat_minor": 2
}
