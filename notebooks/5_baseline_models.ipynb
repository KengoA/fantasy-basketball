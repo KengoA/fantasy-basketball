{
 "cells": [
  {
   "cell_type": "markdown",
   "metadata": {
    "ExecuteTime": {
     "end_time": "2018-05-20T12:28:32.643440Z",
     "start_time": "2018-05-20T12:28:32.606527Z"
    }
   },
   "source": [
    "### Baseline models and Feature Selection"
   ]
  },
  {
   "cell_type": "code",
   "execution_count": 1,
   "metadata": {
    "ExecuteTime": {
     "end_time": "2019-05-29T10:17:22.894709Z",
     "start_time": "2019-05-29T10:17:21.861851Z"
    }
   },
   "outputs": [],
   "source": [
    "import os\n",
    "import glob\n",
    "import warnings\n",
    "import numpy as np\n",
    "import pandas as pd\n",
    "import matplotlib.pyplot as plt\n",
    "\n",
    "from tqdm import tqdm_notebook as tqdm\n",
    "from sklearn.ensemble import GradientBoostingRegressor\n",
    "from sklearn.linear_model import LinearRegression\n",
    "from sklearn.preprocessing import MinMaxScaler\n",
    "\n",
    "import utils\n",
    "from constants import DATA_DIR"
   ]
  },
  {
   "cell_type": "code",
   "execution_count": 2,
   "metadata": {
    "ExecuteTime": {
     "end_time": "2019-05-29T10:17:23.874615Z",
     "start_time": "2019-05-29T10:17:23.870707Z"
    }
   },
   "outputs": [],
   "source": [
    "np.random.seed(23)\n",
    "warnings.filterwarnings(\"ignore\")"
   ]
  },
  {
   "cell_type": "markdown",
   "metadata": {},
   "source": [
    "### Simple Season Average\n",
    "Baseline model - DraftKings shows season average in their data and interface"
   ]
  },
  {
   "cell_type": "code",
   "execution_count": 3,
   "metadata": {
    "ExecuteTime": {
     "end_time": "2019-05-29T10:17:54.270481Z",
     "start_time": "2019-05-29T10:17:31.601951Z"
    }
   },
   "outputs": [
    {
     "data": {
      "application/vnd.jupyter.widget-view+json": {
       "model_id": "53c6cdf85d3b40c1899d1e62dc807f62",
       "version_major": 2,
       "version_minor": 0
      },
      "text/plain": [
       "HBox(children=(IntProgress(value=0, max=141206), HTML(value='')))"
      ]
     },
     "metadata": {},
     "output_type": "display_data"
    },
    {
     "name": "stdout",
     "output_type": "stream",
     "text": [
      "\n",
      " MAE |  7.472289544657329\n",
      "RMSE |  9.921164051956424\n"
     ]
    }
   ],
   "source": [
    "df_baseline = utils.csv_concatenate(\n",
    "    os.path.join(DATA_DIR, \"Dataframes\", \"Modelling\", \"Baseline\")\n",
    ")\n",
    "df_baseline.sort_values(by=[\"Date\", \"Name\"]).reset_index(drop=True, inplace=True)\n",
    "df_baseline[\"FPTS_pred\"] = utils.calculate_FPTS(df_baseline)\n",
    "\n",
    "# Season average\n",
    "print(\" MAE | \", utils.calculate_MAE(df_baseline[\"FPTS_pred\"], df_baseline[\"FPTS\"]))\n",
    "print(\"RMSE | \", utils.calculate_RMSE(df_baseline[\"FPTS_pred\"], df_baseline[\"FPTS\"]))"
   ]
  },
  {
   "cell_type": "code",
   "execution_count": 4,
   "metadata": {
    "ExecuteTime": {
     "end_time": "2019-05-29T10:17:57.591992Z",
     "start_time": "2019-05-29T10:17:56.053686Z"
    }
   },
   "outputs": [
    {
     "data": {
      "application/vnd.jupyter.widget-view+json": {
       "model_id": "0f06a22cdc6a49ffbedb36bc02df2966",
       "version_major": 2,
       "version_minor": 0
      },
      "text/plain": [
       "HBox(children=(IntProgress(value=0, max=5), HTML(value='')))"
      ]
     },
     "metadata": {},
     "output_type": "display_data"
    },
    {
     "name": "stdout",
     "output_type": "stream",
     "text": [
      "\n",
      "\n",
      "   <--- Validation Errors --->\n",
      "MAE  | Mean: 7.57319, SD: 0.03217\n",
      "RMSE | Mean: 9.85258, SD: 0.04571\n",
      "\n"
     ]
    }
   ],
   "source": [
    "# Linear Regression with basic 9 variables counted for fantasy points\n",
    "df_baseline = df_baseline\n",
    "basic = [\"PTS\", \"3P\", \"AST\", \"TRB\", \"STL\", \"BLK\", \"TOV\", \"DD\", \"TD\"]\n",
    "\n",
    "X = df_baseline.loc[:, basic]\n",
    "X = MinMaxScaler().fit_transform(X)\n",
    "y = df_baseline[\"FPTS\"].values.reshape(-1, 1).flatten()\n",
    "\n",
    "reg = LinearRegression()\n",
    "errors = utils.cross_val(reg, X, y, n_folds=5, verbose=0)\n",
    "utils.summarize_errors(errors)"
   ]
  },
  {
   "cell_type": "markdown",
   "metadata": {
    "ExecuteTime": {
     "end_time": "2018-04-09T13:28:27.367757Z",
     "start_time": "2018-04-09T13:28:27.364972Z"
    }
   },
   "source": [
    "### Weighted Features\n",
    "Choose weighting scheme from linear, square root and quadratic"
   ]
  },
  {
   "cell_type": "code",
   "execution_count": 5,
   "metadata": {
    "ExecuteTime": {
     "end_time": "2019-05-29T10:18:01.106207Z",
     "start_time": "2019-05-29T10:18:01.102404Z"
    }
   },
   "outputs": [],
   "source": [
    "features = [\n",
    "    \"SG\",\n",
    "    \"F\",\n",
    "    \"C\",\n",
    "    \"PTS\",\n",
    "    \"3P\",\n",
    "    \"AST\",\n",
    "    \"TRB\",\n",
    "    \"STL\",\n",
    "    \"BLK\",\n",
    "    \"TOV\",\n",
    "    \"DD\",\n",
    "    \"TD\",\n",
    "    \"MP\",\n",
    "    \"FT\",\n",
    "    \"FTA\",\n",
    "    \"FGA\",\n",
    "    \"3PA\",\n",
    "    \"DRB\",\n",
    "    \"ORB\",\n",
    "    \"USG_perc\",\n",
    "    \"DRtg\",\n",
    "    \"ORtg\",\n",
    "    \"AST_perc\",\n",
    "    \"DRB_perc\",\n",
    "    \"ORB_perc\",\n",
    "    \"BLK_perc\",\n",
    "    \"TOV_perc\",\n",
    "    \"STL_perc\",\n",
    "    \"eFG_perc\",\n",
    "    \"FG_perc\",\n",
    "    \"3P_perc\",\n",
    "    \"FT_perc\",\n",
    "]"
   ]
  },
  {
   "cell_type": "code",
   "execution_count": 7,
   "metadata": {
    "ExecuteTime": {
     "end_time": "2019-05-29T10:18:47.601791Z",
     "start_time": "2019-05-29T10:18:32.373208Z"
    }
   },
   "outputs": [
    {
     "name": "stdout",
     "output_type": "stream",
     "text": [
      "\n",
      "weighting sheme: sqrt\n"
     ]
    },
    {
     "data": {
      "application/vnd.jupyter.widget-view+json": {
       "model_id": "f6081f9a55b74887856dfb2f4d5a8c0d",
       "version_major": 2,
       "version_minor": 0
      },
      "text/plain": [
       "HBox(children=(IntProgress(value=0, max=5), HTML(value='')))"
      ]
     },
     "metadata": {},
     "output_type": "display_data"
    },
    {
     "name": "stdout",
     "output_type": "stream",
     "text": [
      "\n",
      "\n",
      "   <--- Validation Errors --->\n",
      "MAE  | Mean: 7.33355, SD: 0.04243\n",
      "RMSE | Mean: 9.61004, SD: 0.06262\n",
      "\n",
      "\n",
      "weighting sheme: linear\n"
     ]
    },
    {
     "data": {
      "application/vnd.jupyter.widget-view+json": {
       "model_id": "1ad228faeb02463ab94910d3a42d36bd",
       "version_major": 2,
       "version_minor": 0
      },
      "text/plain": [
       "HBox(children=(IntProgress(value=0, max=5), HTML(value='')))"
      ]
     },
     "metadata": {},
     "output_type": "display_data"
    },
    {
     "name": "stdout",
     "output_type": "stream",
     "text": [
      "\n",
      "\n",
      "   <--- Validation Errors --->\n",
      "MAE  | Mean: 7.30567, SD: 0.04419\n",
      "RMSE | Mean: 9.58473, SD: 0.06456\n",
      "\n",
      "\n",
      "weighting sheme: quad\n"
     ]
    },
    {
     "data": {
      "application/vnd.jupyter.widget-view+json": {
       "model_id": "996d3672e2fb478c9c2b8d1c90919870",
       "version_major": 2,
       "version_minor": 0
      },
      "text/plain": [
       "HBox(children=(IntProgress(value=0, max=5), HTML(value='')))"
      ]
     },
     "metadata": {},
     "output_type": "display_data"
    },
    {
     "name": "stdout",
     "output_type": "stream",
     "text": [
      "\n",
      "\n",
      "   <--- Validation Errors --->\n",
      "MAE  | Mean: 7.30426, SD: 0.04765\n",
      "RMSE | Mean: 9.59096, SD: 0.06601\n",
      "\n"
     ]
    }
   ],
   "source": [
    "for weighting in [\"sqrt\", \"linear\", \"quad\"]:\n",
    "    print(\"\\nweighting sheme:\", weighting)\n",
    "    df_features = utils.csv_concatenate(\n",
    "        os.path.join(DATA_DIR, \"Dataframes\", \"Modelling\", \"Features\", weighting)\n",
    "    )\n",
    "\n",
    "    X = df_features.loc[:, features]\n",
    "    X = MinMaxScaler().fit_transform(X)\n",
    "    y = df_features[\"FPTS\"].values.reshape(-1, 1).flatten()\n",
    "\n",
    "    reg = LinearRegression()\n",
    "    errors = utils.cross_val(reg, X, y, n_folds=5, verbose=0)\n",
    "    utils.summarize_errors(errors, verbose=0)"
   ]
  },
  {
   "cell_type": "markdown",
   "metadata": {},
   "source": [
    "### Feature Selection with Feature Importances"
   ]
  },
  {
   "cell_type": "code",
   "execution_count": 8,
   "metadata": {
    "ExecuteTime": {
     "end_time": "2019-05-29T10:19:01.738644Z",
     "start_time": "2019-05-29T10:18:59.661705Z"
    }
   },
   "outputs": [],
   "source": [
    "weighting = \"quad\"\n",
    "df_features = utils.csv_concatenate(\n",
    "    os.path.join(DATA_DIR, \"Dataframes\", \"Modelling\", \"Features\", weighting)\n",
    ")"
   ]
  },
  {
   "cell_type": "code",
   "execution_count": 9,
   "metadata": {
    "ExecuteTime": {
     "end_time": "2019-05-29T10:19:03.216356Z",
     "start_time": "2019-05-29T10:19:03.210322Z"
    }
   },
   "outputs": [],
   "source": [
    "_all = [\n",
    "    \"Salary\",\n",
    "    \"Rest\",\n",
    "    \"Rota_All\",\n",
    "    \"Rota_Pos\",\n",
    "    \"Home\",\n",
    "    \"SG\",\n",
    "    \"F\",\n",
    "    \"C\",\n",
    "    \"Value\",\n",
    "    \"FPTS_std\",\n",
    "    \"PTS\",\n",
    "    \"3P\",\n",
    "    \"AST\",\n",
    "    \"TRB\",\n",
    "    \"STL\",\n",
    "    \"BLK\",\n",
    "    \"TOV\",\n",
    "    \"DD\",\n",
    "    \"TD\",\n",
    "    \"MP\",\n",
    "    \"FT\",\n",
    "    \"FTA\",\n",
    "    \"FGA\",\n",
    "    \"3PA\",\n",
    "    \"DRB\",\n",
    "    \"ORB\",\n",
    "    \"USG_perc\",\n",
    "    \"DRtg\",\n",
    "    \"ORtg\",\n",
    "    \"AST_perc\",\n",
    "    \"DRB_perc\",\n",
    "    \"ORB_perc\",\n",
    "    \"BLK_perc\",\n",
    "    \"TOV_perc\",\n",
    "    \"STL_perc\",\n",
    "    \"eFG_perc\",\n",
    "    \"FG_perc\",\n",
    "    \"3P_perc\",\n",
    "    \"FT_perc\",\n",
    "]"
   ]
  },
  {
   "cell_type": "code",
   "execution_count": 10,
   "metadata": {
    "ExecuteTime": {
     "end_time": "2019-05-29T10:20:16.663873Z",
     "start_time": "2019-05-29T10:19:06.918377Z"
    }
   },
   "outputs": [
    {
     "data": {
      "image/png": "[encoded data removed]",
      "text/plain": [
       "<Figure size 1080x720 with 1 Axes>"
      ]
     },
     "metadata": {
      "needs_background": "light"
     },
     "output_type": "display_data"
    }
   ],
   "source": [
    "X = df_features.loc[:, _all]\n",
    "X = MinMaxScaler().fit_transform(X)\n",
    "y = df_features[\"FPTS\"].values.reshape(-1, 1).flatten()\n",
    "\n",
    "# Takes 2 minutes\n",
    "model = GradientBoostingRegressor()\n",
    "model.fit(X, y)\n",
    "\n",
    "top_features = pd.Series(model.feature_importances_, index=_all).sort_values()\n",
    "top_features.plot(kind=\"barh\", figsize=(15, 10), title=\"Top Features\")\n",
    "plt.show()"
   ]
  },
  {
   "cell_type": "markdown",
   "metadata": {
    "ExecuteTime": {
     "end_time": "2018-04-09T13:29:55.985615Z",
     "start_time": "2018-04-09T13:29:55.982597Z"
    }
   },
   "source": [
    "### Linear Regression with All / Selected Features"
   ]
  },
  {
   "cell_type": "code",
   "execution_count": 11,
   "metadata": {
    "ExecuteTime": {
     "end_time": "2019-05-29T10:21:01.230024Z",
     "start_time": "2019-05-29T10:21:01.224486Z"
    }
   },
   "outputs": [],
   "source": [
    "omit_lowest = 20\n",
    "_selected = list(top_features[omit_lowest:].index)"
   ]
  },
  {
   "cell_type": "code",
   "execution_count": 17,
   "metadata": {
    "ExecuteTime": {
     "end_time": "2019-05-29T10:27:08.213093Z",
     "start_time": "2019-05-29T10:26:40.570798Z"
    },
    "scrolled": false
   },
   "outputs": [
    {
     "name": "stdout",
     "output_type": "stream",
     "text": [
      "\n",
      "weighting sheme: sqrt\n"
     ]
    },
    {
     "data": {
      "application/vnd.jupyter.widget-view+json": {
       "model_id": "24ce43bdd58c48af8e14b1af1f8c2594",
       "version_major": 2,
       "version_minor": 0
      },
      "text/plain": [
       "HBox(children=(IntProgress(value=0, max=5), HTML(value='')))"
      ]
     },
     "metadata": {},
     "output_type": "display_data"
    },
    {
     "name": "stdout",
     "output_type": "stream",
     "text": [
      "\n",
      "\n",
      "   <--- Validation Errors --->\n",
      "MAE  | Mean: 7.28797, SD: 0.04126\n",
      "RMSE | Mean: 9.54591, SD: 0.05979\n",
      "\n",
      "\n",
      "weighting sheme: linear\n"
     ]
    },
    {
     "data": {
      "application/vnd.jupyter.widget-view+json": {
       "model_id": "3edbb1b5e2fd4444af462fae8fd1c771",
       "version_major": 2,
       "version_minor": 0
      },
      "text/plain": [
       "HBox(children=(IntProgress(value=0, max=5), HTML(value='')))"
      ]
     },
     "metadata": {},
     "output_type": "display_data"
    },
    {
     "name": "stdout",
     "output_type": "stream",
     "text": [
      "\n",
      "\n",
      "   <--- Validation Errors --->\n",
      "MAE  | Mean: 7.25764, SD: 0.04189\n",
      "RMSE | Mean: 9.51487, SD: 0.06149\n",
      "\n",
      "\n",
      "weighting sheme: quad\n"
     ]
    },
    {
     "data": {
      "application/vnd.jupyter.widget-view+json": {
       "model_id": "39d5023d6fd64f36a957603c0faad644",
       "version_major": 2,
       "version_minor": 0
      },
      "text/plain": [
       "HBox(children=(IntProgress(value=0, max=5), HTML(value='')))"
      ]
     },
     "metadata": {},
     "output_type": "display_data"
    },
    {
     "name": "stdout",
     "output_type": "stream",
     "text": [
      "\n",
      "\n",
      "   <--- Validation Errors --->\n",
      "MAE  | Mean: 7.2352, SD: 0.04257\n",
      "RMSE | Mean: 9.49186, SD: 0.06223\n",
      "\n",
      "========================\n",
      "\n",
      "weighting sheme: sqrt\n"
     ]
    },
    {
     "data": {
      "application/vnd.jupyter.widget-view+json": {
       "model_id": "7ed8418217574fa3a268a899c5b55f63",
       "version_major": 2,
       "version_minor": 0
      },
      "text/plain": [
       "HBox(children=(IntProgress(value=0, max=5), HTML(value='')))"
      ]
     },
     "metadata": {},
     "output_type": "display_data"
    },
    {
     "name": "stdout",
     "output_type": "stream",
     "text": [
      "\n",
      "\n",
      "   <--- Validation Errors --->\n",
      "MAE  | Mean: 7.31145, SD: 0.04191\n",
      "RMSE | Mean: 9.57094, SD: 0.06134\n",
      "\n",
      "\n",
      "weighting sheme: linear\n"
     ]
    },
    {
     "data": {
      "application/vnd.jupyter.widget-view+json": {
       "model_id": "d979523036744f9f82b898ddcbcd7737",
       "version_major": 2,
       "version_minor": 0
      },
      "text/plain": [
       "HBox(children=(IntProgress(value=0, max=5), HTML(value='')))"
      ]
     },
     "metadata": {},
     "output_type": "display_data"
    },
    {
     "name": "stdout",
     "output_type": "stream",
     "text": [
      "\n",
      "\n",
      "   <--- Validation Errors --->\n",
      "MAE  | Mean: 7.28358, SD: 0.0426\n",
      "RMSE | Mean: 9.54219, SD: 0.06293\n",
      "\n",
      "\n",
      "weighting sheme: quad\n"
     ]
    },
    {
     "data": {
      "application/vnd.jupyter.widget-view+json": {
       "model_id": "a4de2c07d23f459dbfa2714fa5967817",
       "version_major": 2,
       "version_minor": 0
      },
      "text/plain": [
       "HBox(children=(IntProgress(value=0, max=5), HTML(value='')))"
      ]
     },
     "metadata": {},
     "output_type": "display_data"
    },
    {
     "name": "stdout",
     "output_type": "stream",
     "text": [
      "\n",
      "\n",
      "   <--- Validation Errors --->\n",
      "MAE  | Mean: 7.26486, SD: 0.0431\n",
      "RMSE | Mean: 9.52171, SD: 0.06373\n",
      "\n",
      "========================\n"
     ]
    }
   ],
   "source": [
    "for feature_type in [_all, _selected]:\n",
    "    for weighting in [\"sqrt\", \"linear\", \"quad\"]:\n",
    "        df_features = utils.csv_concatenate(\n",
    "            os.path.join(DATA_DIR, \"Dataframes\", \"Modelling\", \"Features\", weighting)\n",
    "        )\n",
    "        print(\"\\nweighting sheme: {}\".format(weighting))\n",
    "\n",
    "        X = df_features.loc[:, feature_type]\n",
    "        X = MinMaxScaler().fit_transform(X)\n",
    "        y = df_features[\"FPTS\"].values.reshape(-1, 1).flatten()\n",
    "\n",
    "        reg = LinearRegression()\n",
    "\n",
    "        errors = utils.cross_val(reg, X, y, verbose=0)\n",
    "        utils.summarize_errors(errors, verbose=0)\n",
    "\n",
    "    print(\"========================\")"
   ]
  },
  {
   "cell_type": "markdown",
   "metadata": {},
   "source": [
    "### Season Average Baseline\n",
    "- MAE - 7.47229\n",
    "- RMSE - 9.92116\n",
    "\n",
    "### Linear Regression with Additional Features and Quadratic Weighting\n",
    "- MAE  | Mean: 7.2352, SD: 0.04257\n",
    "- RMSE | Mean: 9.49186, SD: 0.06223\n"
   ]
  }
 ],
 "metadata": {
  "kernelspec": {
   "display_name": "Python 3",
   "language": "python",
   "name": "python3"
  },
  "language_info": {
   "codemirror_mode": {
    "name": "ipython",
    "version": 3
   },
   "file_extension": ".py",
   "mimetype": "text/x-python",
   "name": "python",
   "nbconvert_exporter": "python",
   "pygments_lexer": "ipython3",
   "version": "3.7.1"
  },
  "varInspector": {
   "cols": {
    "lenName": 16,
    "lenType": 16,
    "lenVar": 40
   },
   "kernels_config": {
    "python": {
     "delete_cmd_postfix": "",
     "delete_cmd_prefix": "del ",
     "library": "var_list.py",
     "varRefreshCmd": "print(var_dic_list())"
    },
    "r": {
     "delete_cmd_postfix": ") ",
     "delete_cmd_prefix": "rm(",
     "library": "var_list.r",
     "varRefreshCmd": "cat(var_dic_list()) "
    }
   },
   "types_to_exclude": [
    "module",
    "function",
    "builtin_function_or_method",
    "instance",
    "_Feature"
   ],
   "window_display": false
  }
 },
 "nbformat": 4,
 "nbformat_minor": 2
}
